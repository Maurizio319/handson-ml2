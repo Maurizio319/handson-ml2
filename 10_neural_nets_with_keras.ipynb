{
  "cells": [
    {
      "cell_type": "markdown",
      "metadata": {
        "id": "aSKC-oel7fYe"
      },
      "source": [
        "**Chapter 10 – Introduction to Artificial Neural Networks with Keras**\n",
        "\n",
        "_This notebook contains all the sample code and solutions to the exercises in chapter 10._"
      ]
    },
    {
      "cell_type": "markdown",
      "metadata": {
        "id": "w6Q-MGDT7fYl"
      },
      "source": [
        "<table align=\"left\">\n",
        "  <td>\n",
        "    <a href=\"https://colab.research.google.com/github/ageron/handson-ml2/blob/master/10_neural_nets_with_keras.ipynb\" target=\"_parent\"><img src=\"https://colab.research.google.com/assets/colab-badge.svg\" alt=\"Open In Colab\"/></a>\n",
        "  </td>\n",
        "  <td>\n",
        "    <a target=\"_blank\" href=\"https://kaggle.com/kernels/welcome?src=https://github.com/ageron/handson-ml2/blob/master/10_neural_nets_with_keras.ipynb\"><img src=\"https://kaggle.com/static/images/open-in-kaggle.svg\" /></a>\n",
        "  </td>\n",
        "</table>"
      ]
    },
    {
      "cell_type": "markdown",
      "metadata": {
        "id": "uzXbLFP47fYo"
      },
      "source": [
        "# Setup"
      ]
    },
    {
      "cell_type": "markdown",
      "metadata": {
        "id": "h2Uez6Wv7fYq"
      },
      "source": [
        "First, let's import a few common modules, ensure MatplotLib plots figures inline and prepare a function to save the figures. We also check that Python 3.5 or later is installed (although Python 2.x may work, it is deprecated so we strongly recommend you use Python 3 instead), as well as Scikit-Learn ≥0.20 and TensorFlow ≥2.0."
      ]
    },
    {
      "cell_type": "code",
      "execution_count": 13,
      "metadata": {
        "id": "bLQ4K9nC7fYs",
        "outputId": "53022d64-ef99-42da-d5dd-c376bce11f3a",
        "colab": {
          "base_uri": "https://localhost:8080/"
        }
      },
      "outputs": [
        {
          "output_type": "stream",
          "name": "stdout",
          "text": [
            "Colab only includes TensorFlow 2.x; %tensorflow_version has no effect.\n"
          ]
        }
      ],
      "source": [
        "# Python ≥3.5 is required\n",
        "import sys\n",
        "assert sys.version_info >= (3, 5)\n",
        "\n",
        "# Scikit-Learn ≥0.20 is required\n",
        "import sklearn\n",
        "assert sklearn.__version__ >= \"0.20\"\n",
        "\n",
        "try:\n",
        "    # %tensorflow_version only exists in Colab.\n",
        "    %tensorflow_version 2.x\n",
        "except Exception:\n",
        "    pass\n",
        "\n",
        "# TensorFlow ≥2.0 is required\n",
        "import tensorflow as tf\n",
        "assert tf.__version__ >= \"2.0\"\n",
        "\n",
        "# Common imports\n",
        "import numpy as np\n",
        "import os\n",
        "\n",
        "# to make this notebook's output stable across runs\n",
        "np.random.seed(42)\n",
        "\n",
        "# To plot pretty figures\n",
        "%matplotlib inline\n",
        "import matplotlib as mpl\n",
        "import matplotlib.pyplot as plt\n",
        "mpl.rc('axes', labelsize=14)\n",
        "mpl.rc('xtick', labelsize=12)\n",
        "mpl.rc('ytick', labelsize=12)\n",
        "\n",
        "# Where to save the figures\n",
        "PROJECT_ROOT_DIR = \".\"\n",
        "CHAPTER_ID = \"ann\"\n",
        "IMAGES_PATH = os.path.join(PROJECT_ROOT_DIR, \"images\", CHAPTER_ID)\n",
        "os.makedirs(IMAGES_PATH, exist_ok=True)\n",
        "\n",
        "def save_fig(fig_id, tight_layout=True, fig_extension=\"png\", resolution=300):\n",
        "    path = os.path.join(IMAGES_PATH, fig_id + \".\" + fig_extension)\n",
        "    print(\"Saving figure\", fig_id)\n",
        "    if tight_layout:\n",
        "        plt.tight_layout()\n",
        "    plt.savefig(path, format=fig_extension, dpi=resolution)\n"
      ]
    },
    {
      "cell_type": "markdown",
      "metadata": {
        "id": "2N_N-am27fYv"
      },
      "source": [
        "# Perceptrons"
      ]
    },
    {
      "cell_type": "markdown",
      "metadata": {
        "id": "Ldun9j717fYw"
      },
      "source": [
        "**Note**: we set `max_iter` and `tol` explicitly to avoid warnings about the fact that their default value will change in future versions of Scikit-Learn."
      ]
    },
    {
      "cell_type": "code",
      "execution_count": null,
      "metadata": {
        "id": "6tfRhiuH7fYx"
      },
      "outputs": [],
      "source": [
        "import numpy as np\n",
        "from sklearn.datasets import load_iris\n",
        "from sklearn.linear_model import Perceptron\n",
        "\n",
        "iris = load_iris()\n",
        "X = iris.data[:, (2, 3)]  # petal length, petal width\n",
        "y = (iris.target == 0).astype(np.int)\n",
        "\n",
        "per_clf = Perceptron(max_iter=1000, tol=1e-3, random_state=42)\n",
        "per_clf.fit(X, y)\n",
        "\n",
        "y_pred = per_clf.predict([[2, 0.5]])"
      ]
    },
    {
      "cell_type": "code",
      "execution_count": null,
      "metadata": {
        "id": "D6_UeYfX7fYy",
        "outputId": "fb69fb9d-aea3-4fa9-f02e-219e4804de43"
      },
      "outputs": [
        {
          "data": {
            "text/plain": [
              "array([1])"
            ]
          },
          "execution_count": 3,
          "metadata": {},
          "output_type": "execute_result"
        }
      ],
      "source": [
        "y_pred"
      ]
    },
    {
      "cell_type": "code",
      "execution_count": null,
      "metadata": {
        "id": "wYNn30MX7fY1",
        "outputId": "25f0c792-09fb-406f-dcd9-c6dfbfd49ee2"
      },
      "outputs": [
        {
          "name": "stdout",
          "output_type": "stream",
          "text": [
            "Saving figure perceptron_iris_plot\n"
          ]
        },
        {
          "data": {
            "image/png": "[encoded data removed]",
            "text/plain": [
              "<Figure size 720x288 with 1 Axes>"
            ]
          },
          "metadata": {
            "needs_background": "light"
          },
          "output_type": "display_data"
        }
      ],
      "source": [
        "a = -per_clf.coef_[0][0] / per_clf.coef_[0][1]\n",
        "b = -per_clf.intercept_ / per_clf.coef_[0][1]\n",
        "\n",
        "axes = [0, 5, 0, 2]\n",
        "\n",
        "x0, x1 = np.meshgrid(\n",
        "        np.linspace(axes[0], axes[1], 500).reshape(-1, 1),\n",
        "        np.linspace(axes[2], axes[3], 200).reshape(-1, 1),\n",
        "    )\n",
        "X_new = np.c_[x0.ravel(), x1.ravel()]\n",
        "y_predict = per_clf.predict(X_new)\n",
        "zz = y_predict.reshape(x0.shape)\n",
        "\n",
        "plt.figure(figsize=(10, 4))\n",
        "plt.plot(X[y==0, 0], X[y==0, 1], \"bs\", label=\"Not Iris-Setosa\")\n",
        "plt.plot(X[y==1, 0], X[y==1, 1], \"yo\", label=\"Iris-Setosa\")\n",
        "\n",
        "plt.plot([axes[0], axes[1]], [a * axes[0] + b, a * axes[1] + b], \"k-\", linewidth=3)\n",
        "from matplotlib.colors import ListedColormap\n",
        "custom_cmap = ListedColormap(['#9898ff', '#fafab0'])\n",
        "\n",
        "plt.contourf(x0, x1, zz, cmap=custom_cmap)\n",
        "plt.xlabel(\"Petal length\", fontsize=14)\n",
        "plt.ylabel(\"Petal width\", fontsize=14)\n",
        "plt.legend(loc=\"lower right\", fontsize=14)\n",
        "plt.axis(axes)\n",
        "\n",
        "save_fig(\"perceptron_iris_plot\")\n",
        "plt.show()"
      ]
    },
    {
      "cell_type": "markdown",
      "metadata": {
        "id": "TnvNkPXV7fY2"
      },
      "source": [
        "# Activation functions"
      ]
    },
    {
      "cell_type": "code",
      "execution_count": null,
      "metadata": {
        "id": "Hxxpzm3-7fY3"
      },
      "outputs": [],
      "source": [
        "def sigmoid(z):\n",
        "    return 1 / (1 + np.exp(-z))\n",
        "\n",
        "def relu(z):\n",
        "    return np.maximum(0, z)\n",
        "\n",
        "def derivative(f, z, eps=0.000001):\n",
        "    return (f(z + eps) - f(z - eps))/(2 * eps)"
      ]
    },
    {
      "cell_type": "code",
      "execution_count": null,
      "metadata": {
        "id": "VCdBAUha7fY3",
        "outputId": "8ada79d8-d858-43ea-8c85-6b46df358545"
      },
      "outputs": [
        {
          "name": "stdout",
          "output_type": "stream",
          "text": [
            "Saving figure activation_functions_plot\n"
          ]
        },
        {
          "data": {
            "image/png": "[encoded data removed]",
            "text/plain": [
              "<Figure size 792x288 with 2 Axes>"
            ]
          },
          "metadata": {
            "needs_background": "light"
          },
          "output_type": "display_data"
        }
      ],
      "source": [
        "z = np.linspace(-5, 5, 200)\n",
        "\n",
        "plt.figure(figsize=(11,4))\n",
        "\n",
        "plt.subplot(121)\n",
        "plt.plot(z, np.sign(z), \"r-\", linewidth=1, label=\"Step\")\n",
        "plt.plot(z, sigmoid(z), \"g--\", linewidth=2, label=\"Sigmoid\")\n",
        "plt.plot(z, np.tanh(z), \"b-\", linewidth=2, label=\"Tanh\")\n",
        "plt.plot(z, relu(z), \"m-.\", linewidth=2, label=\"ReLU\")\n",
        "plt.grid(True)\n",
        "plt.legend(loc=\"center right\", fontsize=14)\n",
        "plt.title(\"Activation functions\", fontsize=14)\n",
        "plt.axis([-5, 5, -1.2, 1.2])\n",
        "\n",
        "plt.subplot(122)\n",
        "plt.plot(z, derivative(np.sign, z), \"r-\", linewidth=1, label=\"Step\")\n",
        "plt.plot(0, 0, \"ro\", markersize=5)\n",
        "plt.plot(0, 0, \"rx\", markersize=10)\n",
        "plt.plot(z, derivative(sigmoid, z), \"g--\", linewidth=2, label=\"Sigmoid\")\n",
        "plt.plot(z, derivative(np.tanh, z), \"b-\", linewidth=2, label=\"Tanh\")\n",
        "plt.plot(z, derivative(relu, z), \"m-.\", linewidth=2, label=\"ReLU\")\n",
        "plt.grid(True)\n",
        "#plt.legend(loc=\"center right\", fontsize=14)\n",
        "plt.title(\"Derivatives\", fontsize=14)\n",
        "plt.axis([-5, 5, -0.2, 1.2])\n",
        "\n",
        "save_fig(\"activation_functions_plot\")\n",
        "plt.show()"
      ]
    },
    {
      "cell_type": "code",
      "execution_count": null,
      "metadata": {
        "id": "_MUODOga7fY4"
      },
      "outputs": [],
      "source": [
        "def heaviside(z):\n",
        "    return (z >= 0).astype(z.dtype)\n",
        "\n",
        "def mlp_xor(x1, x2, activation=heaviside):\n",
        "    return activation(-activation(x1 + x2 - 1.5) + activation(x1 + x2 - 0.5) - 0.5)"
      ]
    },
    {
      "cell_type": "code",
      "execution_count": null,
      "metadata": {
        "scrolled": true,
        "id": "G-OnHbz77fY5",
        "outputId": "e5227843-9175-4076-d71e-806970ad50a7"
      },
      "outputs": [
        {
          "data": {
            "image/png": "[encoded data removed]",
            "text/plain": [
              "<Figure size 720x288 with 2 Axes>"
            ]
          },
          "metadata": {
            "needs_background": "light"
          },
          "output_type": "display_data"
        }
      ],
      "source": [
        "x1s = np.linspace(-0.2, 1.2, 100)\n",
        "x2s = np.linspace(-0.2, 1.2, 100)\n",
        "x1, x2 = np.meshgrid(x1s, x2s)\n",
        "\n",
        "z1 = mlp_xor(x1, x2, activation=heaviside)\n",
        "z2 = mlp_xor(x1, x2, activation=sigmoid)\n",
        "\n",
        "plt.figure(figsize=(10,4))\n",
        "\n",
        "plt.subplot(121)\n",
        "plt.contourf(x1, x2, z1)\n",
        "plt.plot([0, 1], [0, 1], \"gs\", markersize=20)\n",
        "plt.plot([0, 1], [1, 0], \"y^\", markersize=20)\n",
        "plt.title(\"Activation function: heaviside\", fontsize=14)\n",
        "plt.grid(True)\n",
        "\n",
        "plt.subplot(122)\n",
        "plt.contourf(x1, x2, z2)\n",
        "plt.plot([0, 1], [0, 1], \"gs\", markersize=20)\n",
        "plt.plot([0, 1], [1, 0], \"y^\", markersize=20)\n",
        "plt.title(\"Activation function: sigmoid\", fontsize=14)\n",
        "plt.grid(True)"
      ]
    },
    {
      "cell_type": "markdown",
      "metadata": {
        "id": "BG0-RZdQ7fY5"
      },
      "source": [
        "# Building an Image Classifier"
      ]
    },
    {
      "cell_type": "markdown",
      "metadata": {
        "id": "JKC8zd7k7fY6"
      },
      "source": [
        "First let's import TensorFlow and Keras."
      ]
    },
    {
      "cell_type": "code",
      "execution_count": 1,
      "metadata": {
        "id": "zVaaxszG7fY6"
      },
      "outputs": [],
      "source": [
        "import tensorflow as tf\n",
        "from tensorflow import keras"
      ]
    },
    {
      "cell_type": "code",
      "execution_count": 2,
      "metadata": {
        "id": "YUPJ-Yrf7fY6",
        "outputId": "a98b4036-d1de-4c48-a661-3c2380c0e5fb",
        "colab": {
          "base_uri": "https://localhost:8080/",
          "height": 36
        }
      },
      "outputs": [
        {
          "output_type": "execute_result",
          "data": {
            "text/plain": [
              "'2.17.0'"
            ],
            "application/vnd.google.colaboratory.intrinsic+json": {
              "type": "string"
            }
          },
          "metadata": {},
          "execution_count": 2
        }
      ],
      "source": [
        "tf.__version__"
      ]
    },
    {
      "cell_type": "code",
      "execution_count": 3,
      "metadata": {
        "id": "mfceE9rQ7fY7",
        "outputId": "871a083b-5414-4416-9a58-d354a4cf14cf",
        "colab": {
          "base_uri": "https://localhost:8080/",
          "height": 36
        }
      },
      "outputs": [
        {
          "output_type": "execute_result",
          "data": {
            "text/plain": [
              "'3.4.1'"
            ],
            "application/vnd.google.colaboratory.intrinsic+json": {
              "type": "string"
            }
          },
          "metadata": {},
          "execution_count": 3
        }
      ],
      "source": [
        "keras.__version__"
      ]
    },
    {
      "cell_type": "markdown",
      "metadata": {
        "id": "bSXdiOEk7fY7"
      },
      "source": [
        "Let's start by loading the fashion MNIST dataset. Keras has a number of functions to load popular datasets in `keras.datasets`. The dataset is already split for you between a training set and a test set, but it can be useful to split the training set further to have a validation set:"
      ]
    },
    {
      "cell_type": "code",
      "execution_count": 4,
      "metadata": {
        "id": "fgc4Btrs7fY7",
        "outputId": "d068f054-84bb-4ce4-bd18-ed8a84519ba2",
        "colab": {
          "base_uri": "https://localhost:8080/"
        }
      },
      "outputs": [
        {
          "output_type": "stream",
          "name": "stdout",
          "text": [
            "Downloading data from https://storage.googleapis.com/tensorflow/tf-keras-datasets/train-labels-idx1-ubyte.gz\n",
            "\u001b[1m29515/29515\u001b[0m \u001b[32m━━━━━━━━━━━━━━━━━━━━\u001b[0m\u001b[37m\u001b[0m \u001b[1m0s\u001b[0m 0us/step\n",
            "Downloading data from https://storage.googleapis.com/tensorflow/tf-keras-datasets/train-images-idx3-ubyte.gz\n",
            "\u001b[1m26421880/26421880\u001b[0m \u001b[32m━━━━━━━━━━━━━━━━━━━━\u001b[0m\u001b[37m\u001b[0m \u001b[1m0s\u001b[0m 0us/step\n",
            "Downloading data from https://storage.googleapis.com/tensorflow/tf-keras-datasets/t10k-labels-idx1-ubyte.gz\n",
            "\u001b[1m5148/5148\u001b[0m \u001b[32m━━━━━━━━━━━━━━━━━━━━\u001b[0m\u001b[37m\u001b[0m \u001b[1m0s\u001b[0m 1us/step\n",
            "Downloading data from https://storage.googleapis.com/tensorflow/tf-keras-datasets/t10k-images-idx3-ubyte.gz\n",
            "\u001b[1m4422102/4422102\u001b[0m \u001b[32m━━━━━━━━━━━━━━━━━━━━\u001b[0m\u001b[37m\u001b[0m \u001b[1m0s\u001b[0m 0us/step\n"
          ]
        }
      ],
      "source": [
        "fashion_mnist = keras.datasets.fashion_mnist\n",
        "(X_train_full, y_train_full), (X_test, y_test) = fashion_mnist.load_data()"
      ]
    },
    {
      "cell_type": "markdown",
      "metadata": {
        "id": "mcocH4xP7fY8"
      },
      "source": [
        "The training set contains 60,000 grayscale images, each 28x28 pixels:"
      ]
    },
    {
      "cell_type": "code",
      "execution_count": null,
      "metadata": {
        "id": "DI_zyMja7fY8",
        "outputId": "0ae99ae6-ae18-4d70-8559-4871fd8e3fdc"
      },
      "outputs": [
        {
          "data": {
            "text/plain": [
              "(60000, 28, 28)"
            ]
          },
          "execution_count": 13,
          "metadata": {},
          "output_type": "execute_result"
        }
      ],
      "source": [
        "X_train_full.shape"
      ]
    },
    {
      "cell_type": "markdown",
      "metadata": {
        "id": "hX2_zzNv7fY8"
      },
      "source": [
        "Each pixel intensity is represented as a byte (0 to 255):"
      ]
    },
    {
      "cell_type": "code",
      "execution_count": null,
      "metadata": {
        "id": "9vdczEKY7fY9",
        "outputId": "0a9308a4-0f3c-4961-c239-f35560a2508f"
      },
      "outputs": [
        {
          "data": {
            "text/plain": [
              "dtype('uint8')"
            ]
          },
          "execution_count": 14,
          "metadata": {},
          "output_type": "execute_result"
        }
      ],
      "source": [
        "X_train_full.dtype"
      ]
    },
    {
      "cell_type": "markdown",
      "metadata": {
        "id": "rDMX3yZF7fY9"
      },
      "source": [
        "Let's split the full training set into a validation set and a (smaller) training set. We also scale the pixel intensities down to the 0-1 range and convert them to floats, by dividing by 255."
      ]
    },
    {
      "cell_type": "code",
      "execution_count": 18,
      "metadata": {
        "id": "1JFV80bW7fY9"
      },
      "outputs": [],
      "source": [
        "X_valid, X_train = X_train_full[:5000] / 255., X_train_full[5000:] / 255.\n",
        "y_valid, y_train = y_train_full[:5000], y_train_full[5000:]\n",
        "X_test = X_test / 255."
      ]
    },
    {
      "cell_type": "markdown",
      "metadata": {
        "id": "Hs2p2sl07fY-"
      },
      "source": [
        "You can plot an image using Matplotlib's `imshow()` function, with a `'binary'`\n",
        " color map:"
      ]
    },
    {
      "cell_type": "code",
      "execution_count": null,
      "metadata": {
        "id": "dPf0X43u7fY-",
        "outputId": "5a5cdd8b-60d3-4589-d73a-b77745ad6426"
      },
      "outputs": [
        {
          "data": {
            "image/png": "[encoded data removed]",
            "text/plain": [
              "<Figure size 432x288 with 1 Axes>"
            ]
          },
          "metadata": {
            "needs_background": "light"
          },
          "output_type": "display_data"
        }
      ],
      "source": [
        "plt.imshow(X_train[0], cmap=\"binary\") # plot in black and white\n",
        "plt.axis('off')\n",
        "plt.show()"
      ]
    },
    {
      "cell_type": "markdown",
      "metadata": {
        "id": "xiO425D27fY-"
      },
      "source": [
        "The labels are the class IDs (represented as uint8), from 0 to 9:"
      ]
    },
    {
      "cell_type": "code",
      "execution_count": 19,
      "metadata": {
        "id": "d0ISIeYu7fY_",
        "outputId": "2f72f4d4-d2da-4ed3-915f-69ea63abb01a",
        "colab": {
          "base_uri": "https://localhost:8080/"
        }
      },
      "outputs": [
        {
          "output_type": "execute_result",
          "data": {
            "text/plain": [
              "array([4, 0, 7, ..., 3, 0, 5], dtype=uint8)"
            ]
          },
          "metadata": {},
          "execution_count": 19
        }
      ],
      "source": [
        "y_train"
      ]
    },
    {
      "cell_type": "markdown",
      "metadata": {
        "id": "yBF7sWLJ7fY_"
      },
      "source": [
        "Here are the corresponding class names:"
      ]
    },
    {
      "cell_type": "code",
      "execution_count": 20,
      "metadata": {
        "id": "H-NQbT-67fY_"
      },
      "outputs": [],
      "source": [
        "class_names = [\"T-shirt/top\", \"Trouser\", \"Pullover\", \"Dress\", \"Coat\",\n",
        "               \"Sandal\", \"Shirt\", \"Sneaker\", \"Bag\", \"Ankle boot\"]"
      ]
    },
    {
      "cell_type": "markdown",
      "metadata": {
        "id": "QR3t0LW47fZA"
      },
      "source": [
        "So the first image in the training set is a coat:"
      ]
    },
    {
      "cell_type": "code",
      "execution_count": 21,
      "metadata": {
        "id": "S9lYfnVf7fZA",
        "outputId": "759e4acc-a350-4b3b-9abe-976a04cf258b",
        "colab": {
          "base_uri": "https://localhost:8080/",
          "height": 36
        }
      },
      "outputs": [
        {
          "output_type": "execute_result",
          "data": {
            "text/plain": [
              "'Coat'"
            ],
            "application/vnd.google.colaboratory.intrinsic+json": {
              "type": "string"
            }
          },
          "metadata": {},
          "execution_count": 21
        }
      ],
      "source": [
        "class_names[y_train[0]]"
      ]
    },
    {
      "cell_type": "markdown",
      "metadata": {
        "id": "ai-qmi6q7fZA"
      },
      "source": [
        "The validation set contains 5,000 images, and the test set contains 10,000 images:"
      ]
    },
    {
      "cell_type": "code",
      "execution_count": null,
      "metadata": {
        "id": "y1gkw4AG7fZB",
        "outputId": "c2dda71c-d418-4623-819b-d1ad935d30d0"
      },
      "outputs": [
        {
          "data": {
            "text/plain": [
              "(5000, 28, 28)"
            ]
          },
          "execution_count": 20,
          "metadata": {},
          "output_type": "execute_result"
        }
      ],
      "source": [
        "X_valid.shape"
      ]
    },
    {
      "cell_type": "code",
      "execution_count": null,
      "metadata": {
        "id": "GLL9uwAj7fZB",
        "outputId": "b5e1d9ec-b01d-48ac-f5a5-bbc8b63d453a"
      },
      "outputs": [
        {
          "data": {
            "text/plain": [
              "(10000, 28, 28)"
            ]
          },
          "execution_count": 21,
          "metadata": {},
          "output_type": "execute_result"
        }
      ],
      "source": [
        "X_test.shape"
      ]
    },
    {
      "cell_type": "markdown",
      "metadata": {
        "id": "oVWXMi4r7fZC"
      },
      "source": [
        "Let's take a look at a sample of the images in the dataset:"
      ]
    },
    {
      "cell_type": "code",
      "execution_count": 22,
      "metadata": {
        "id": "u5uBB1z37fZD",
        "outputId": "974e91de-ae50-43a6-cee2-f236edda69d9",
        "colab": {
          "base_uri": "https://localhost:8080/",
          "height": 445
        }
      },
      "outputs": [
        {
          "output_type": "stream",
          "name": "stdout",
          "text": [
            "Saving figure fashion_mnist_plot\n"
          ]
        },
        {
          "output_type": "display_data",
          "data": {
            "text/plain": [
              "<Figure size 1200x480 with 40 Axes>"
            ],
            "image/png": "[encoded data removed]"
          },
          "metadata": {}
        }
      ],
      "source": [
        "n_rows = 4\n",
        "n_cols = 10\n",
        "plt.figure(figsize=(n_cols * 1.2, n_rows * 1.2))\n",
        "for row in range(n_rows):\n",
        "    for col in range(n_cols):\n",
        "        index = n_cols * row + col\n",
        "        plt.subplot(n_rows, n_cols, index + 1)\n",
        "        plt.imshow(X_train[index], cmap=\"binary\", interpolation=\"nearest\")\n",
        "        plt.axis('off')\n",
        "        plt.title(class_names[y_train[index]], fontsize=12)\n",
        "plt.subplots_adjust(wspace=0.2, hspace=0.5)\n",
        "save_fig('fashion_mnist_plot', tight_layout=False)\n",
        "plt.show()"
      ]
    },
    {
      "cell_type": "code",
      "execution_count": 23,
      "metadata": {
        "id": "AuOTn8Q77fZD",
        "outputId": "6cbccca4-dc38-41cb-e819-30bd74b7621b",
        "colab": {
          "base_uri": "https://localhost:8080/"
        }
      },
      "outputs": [
        {
          "output_type": "stream",
          "name": "stderr",
          "text": [
            "/usr/local/lib/python3.10/dist-packages/keras/src/layers/reshaping/flatten.py:37: UserWarning: Do not pass an `input_shape`/`input_dim` argument to a layer. When using Sequential models, prefer using an `Input(shape)` object as the first layer in the model instead.\n",
            "  super().__init__(**kwargs)\n"
          ]
        }
      ],
      "source": [
        "model = keras.models.Sequential()\n",
        "model.add(keras.layers.Flatten(input_shape=[28, 28]))\n",
        "model.add(keras.layers.Dense(300, activation=\"relu\"))\n",
        "model.add(keras.layers.Dense(100, activation=\"relu\"))\n",
        "model.add(keras.layers.Dense(10, activation=\"softmax\"))"
      ]
    },
    {
      "cell_type": "code",
      "source": [
        "\n",
        "keras.backend.clear_session?"
      ],
      "metadata": {
        "id": "Jou3zGwj9UR8"
      },
      "execution_count": 25,
      "outputs": []
    },
    {
      "cell_type": "code",
      "execution_count": 26,
      "metadata": {
        "id": "7AGJSpY07fZD"
      },
      "outputs": [],
      "source": [
        "keras.backend.clear_session()\n",
        "np.random.seed(42)\n",
        "tf.random.set_seed(42)"
      ]
    },
    {
      "cell_type": "code",
      "execution_count": 27,
      "metadata": {
        "id": "ur6Q-l6H7fZE"
      },
      "outputs": [],
      "source": [
        "model = keras.models.Sequential([\n",
        "    keras.layers.Flatten(input_shape=[28, 28]),\n",
        "    keras.layers.Dense(300, activation=\"relu\"),\n",
        "    keras.layers.Dense(100, activation=\"relu\"),\n",
        "    keras.layers.Dense(10, activation=\"softmax\")\n",
        "])"
      ]
    },
    {
      "cell_type": "code",
      "execution_count": 28,
      "metadata": {
        "id": "C_fDwX187fZE",
        "outputId": "c9bef697-543d-4e1c-fefe-4f960059eb57",
        "colab": {
          "base_uri": "https://localhost:8080/"
        }
      },
      "outputs": [
        {
          "output_type": "execute_result",
          "data": {
            "text/plain": [
              "[<Flatten name=flatten, built=True>,\n",
              " <Dense name=dense, built=True>,\n",
              " <Dense name=dense_1, built=True>,\n",
              " <Dense name=dense_2, built=True>]"
            ]
          },
          "metadata": {},
          "execution_count": 28
        }
      ],
      "source": [
        "model.layers"
      ]
    },
    {
      "cell_type": "code",
      "execution_count": null,
      "metadata": {
        "id": "W4bLY_0Z7fZE",
        "outputId": "4e7c3b3b-8a99-43fb-e654-6516e2b2deb0"
      },
      "outputs": [
        {
          "name": "stdout",
          "output_type": "stream",
          "text": [
            "Model: \"sequential\"\n",
            "_________________________________________________________________\n",
            "Layer (type)                 Output Shape              Param #   \n",
            "=================================================================\n",
            "flatten (Flatten)            (None, 784)               0         \n",
            "_________________________________________________________________\n",
            "dense (Dense)                (None, 300)               235500    \n",
            "_________________________________________________________________\n",
            "dense_1 (Dense)              (None, 100)               30100     \n",
            "_________________________________________________________________\n",
            "dense_2 (Dense)              (None, 10)                1010      \n",
            "=================================================================\n",
            "Total params: 266,610\n",
            "Trainable params: 266,610\n",
            "Non-trainable params: 0\n",
            "_________________________________________________________________\n"
          ]
        }
      ],
      "source": [
        "model.summary() # 784 = 28*28"
      ]
    },
    {
      "cell_type": "code",
      "source": [],
      "metadata": {
        "id": "UZAucVPH9qsF",
        "outputId": "fb434f03-9a0a-4478-e342-ff74e714df3a",
        "colab": {
          "base_uri": "https://localhost:8080/"
        }
      },
      "execution_count": 29,
      "outputs": [
        {
          "output_type": "execute_result",
          "data": {
            "text/plain": [
              "784"
            ]
          },
          "metadata": {},
          "execution_count": 29
        }
      ]
    },
    {
      "cell_type": "code",
      "execution_count": null,
      "metadata": {
        "id": "ajLMfCU27fZF",
        "outputId": "d07b940c-6d50-4f15-92c2-a78502713678"
      },
      "outputs": [
        {
          "data": {
            "image/png": "[encoded data removed]",
            "text/plain": [
              "<IPython.core.display.Image object>"
            ]
          },
          "execution_count": 28,
          "metadata": {},
          "output_type": "execute_result"
        }
      ],
      "source": [
        "keras.utils.plot_model(model, \"my_fashion_mnist_model.png\", show_shapes=True)"
      ]
    },
    {
      "cell_type": "code",
      "execution_count": 30,
      "metadata": {
        "id": "FrQX69TF7fZF",
        "outputId": "c9b943a9-4774-4249-eca1-52ad26e55471",
        "colab": {
          "base_uri": "https://localhost:8080/",
          "height": 36
        }
      },
      "outputs": [
        {
          "output_type": "execute_result",
          "data": {
            "text/plain": [
              "'dense'"
            ],
            "application/vnd.google.colaboratory.intrinsic+json": {
              "type": "string"
            }
          },
          "metadata": {},
          "execution_count": 30
        }
      ],
      "source": [
        "hidden1 = model.layers[1]\n",
        "hidden1.name"
      ]
    },
    {
      "cell_type": "code",
      "execution_count": 31,
      "metadata": {
        "id": "tH0L7Bvx7fZF",
        "outputId": "34e0adf5-9a7a-4c2d-97ef-af49626348da",
        "colab": {
          "base_uri": "https://localhost:8080/"
        }
      },
      "outputs": [
        {
          "output_type": "execute_result",
          "data": {
            "text/plain": [
              "True"
            ]
          },
          "metadata": {},
          "execution_count": 31
        }
      ],
      "source": [
        "model.get_layer(hidden1.name) is hidden1"
      ]
    },
    {
      "cell_type": "code",
      "execution_count": 32,
      "metadata": {
        "id": "vlj4DxtG7fZG"
      },
      "outputs": [],
      "source": [
        "weights, biases = hidden1.get_weights()"
      ]
    },
    {
      "cell_type": "code",
      "execution_count": 33,
      "metadata": {
        "id": "-i1sG0GQ7fZG",
        "outputId": "78509cd8-a7ee-49c3-b3a8-1c52bb2eb707",
        "colab": {
          "base_uri": "https://localhost:8080/"
        }
      },
      "outputs": [
        {
          "output_type": "execute_result",
          "data": {
            "text/plain": [
              "array([[-0.00529604, -0.05597457,  0.0201624 , ..., -0.05867654,\n",
              "         0.057963  ,  0.00052883],\n",
              "       [ 0.05552216, -0.02525418, -0.00523976, ..., -0.05512959,\n",
              "        -0.00451373,  0.07355608],\n",
              "       [-0.06339426, -0.01758623, -0.07407172, ..., -0.00462469,\n",
              "         0.05967879, -0.05396055],\n",
              "       ...,\n",
              "       [ 0.0129605 ,  0.04834351,  0.00847449, ..., -0.07044274,\n",
              "         0.04755068, -0.00590126],\n",
              "       [ 0.06271115, -0.04386165,  0.06333081, ...,  0.01416128,\n",
              "         0.03717856, -0.01966317],\n",
              "       [ 0.06432711, -0.02587451, -0.00059222, ..., -0.05444881,\n",
              "         0.02296068,  0.02534188]], dtype=float32)"
            ]
          },
          "metadata": {},
          "execution_count": 33
        }
      ],
      "source": [
        "weights # weights were initialized randomly to break simmetry"
      ]
    },
    {
      "cell_type": "code",
      "execution_count": 34,
      "metadata": {
        "id": "sQ1AgG0S7fZG",
        "outputId": "44d188aa-769d-45cf-a2b3-8f38e644de1e",
        "colab": {
          "base_uri": "https://localhost:8080/"
        }
      },
      "outputs": [
        {
          "output_type": "execute_result",
          "data": {
            "text/plain": [
              "(784, 300)"
            ]
          },
          "metadata": {},
          "execution_count": 34
        }
      ],
      "source": [
        "weights.shape"
      ]
    },
    {
      "cell_type": "code",
      "execution_count": 35,
      "metadata": {
        "id": "BHfb67PD7fZH",
        "outputId": "21e0e34f-b74e-4521-c4cd-116e26b58fc1",
        "colab": {
          "base_uri": "https://localhost:8080/"
        }
      },
      "outputs": [
        {
          "output_type": "execute_result",
          "data": {
            "text/plain": [
              "array([0., 0., 0., 0., 0., 0., 0., 0., 0., 0., 0., 0., 0., 0., 0., 0., 0.,\n",
              "       0., 0., 0., 0., 0., 0., 0., 0., 0., 0., 0., 0., 0., 0., 0., 0., 0.,\n",
              "       0., 0., 0., 0., 0., 0., 0., 0., 0., 0., 0., 0., 0., 0., 0., 0., 0.,\n",
              "       0., 0., 0., 0., 0., 0., 0., 0., 0., 0., 0., 0., 0., 0., 0., 0., 0.,\n",
              "       0., 0., 0., 0., 0., 0., 0., 0., 0., 0., 0., 0., 0., 0., 0., 0., 0.,\n",
              "       0., 0., 0., 0., 0., 0., 0., 0., 0., 0., 0., 0., 0., 0., 0., 0., 0.,\n",
              "       0., 0., 0., 0., 0., 0., 0., 0., 0., 0., 0., 0., 0., 0., 0., 0., 0.,\n",
              "       0., 0., 0., 0., 0., 0., 0., 0., 0., 0., 0., 0., 0., 0., 0., 0., 0.,\n",
              "       0., 0., 0., 0., 0., 0., 0., 0., 0., 0., 0., 0., 0., 0., 0., 0., 0.,\n",
              "       0., 0., 0., 0., 0., 0., 0., 0., 0., 0., 0., 0., 0., 0., 0., 0., 0.,\n",
              "       0., 0., 0., 0., 0., 0., 0., 0., 0., 0., 0., 0., 0., 0., 0., 0., 0.,\n",
              "       0., 0., 0., 0., 0., 0., 0., 0., 0., 0., 0., 0., 0., 0., 0., 0., 0.,\n",
              "       0., 0., 0., 0., 0., 0., 0., 0., 0., 0., 0., 0., 0., 0., 0., 0., 0.,\n",
              "       0., 0., 0., 0., 0., 0., 0., 0., 0., 0., 0., 0., 0., 0., 0., 0., 0.,\n",
              "       0., 0., 0., 0., 0., 0., 0., 0., 0., 0., 0., 0., 0., 0., 0., 0., 0.,\n",
              "       0., 0., 0., 0., 0., 0., 0., 0., 0., 0., 0., 0., 0., 0., 0., 0., 0.,\n",
              "       0., 0., 0., 0., 0., 0., 0., 0., 0., 0., 0., 0., 0., 0., 0., 0., 0.,\n",
              "       0., 0., 0., 0., 0., 0., 0., 0., 0., 0., 0.], dtype=float32)"
            ]
          },
          "metadata": {},
          "execution_count": 35
        }
      ],
      "source": [
        "biases"
      ]
    },
    {
      "cell_type": "code",
      "execution_count": null,
      "metadata": {
        "id": "ukpMBTZ07fZH",
        "outputId": "43b5ecc2-122c-4a38-fa16-3d20c5c4162d"
      },
      "outputs": [
        {
          "data": {
            "text/plain": [
              "(300,)"
            ]
          },
          "execution_count": 35,
          "metadata": {},
          "output_type": "execute_result"
        }
      ],
      "source": [
        "biases.shape"
      ]
    },
    {
      "cell_type": "code",
      "execution_count": null,
      "metadata": {
        "id": "qL-VnyCf7fZH"
      },
      "outputs": [],
      "source": [
        "model.compile(loss=\"sparse_categorical_crossentropy\",\n",
        "              optimizer=\"sgd\",\n",
        "              metrics=[\"accuracy\"])"
      ]
    },
    {
      "cell_type": "markdown",
      "metadata": {
        "id": "SLe7WSrj7fZI"
      },
      "source": [
        "This is equivalent to:"
      ]
    },
    {
      "cell_type": "markdown",
      "metadata": {
        "id": "LasRkSYC7fZI"
      },
      "source": [
        "```python\n",
        "model.compile(loss=keras.losses.sparse_categorical_crossentropy,\n",
        "              optimizer=keras.optimizers.SGD(),\n",
        "              metrics=[keras.metrics.sparse_categorical_accuracy])\n",
        "```"
      ]
    },
    {
      "cell_type": "code",
      "execution_count": null,
      "metadata": {
        "id": "F0mn_T8Y7fZI",
        "outputId": "6d06cb16-e7dc-44f2-9817-d41a94a5d25e"
      },
      "outputs": [
        {
          "name": "stdout",
          "output_type": "stream",
          "text": [
            "Epoch 1/30\n",
            "1719/1719 [==============================] - 2s 1ms/step - loss: 1.0187 - accuracy: 0.6807 - val_loss: 0.5207 - val_accuracy: 0.8234\n",
            "Epoch 2/30\n",
            "1719/1719 [==============================] - 2s 921us/step - loss: 0.5028 - accuracy: 0.8260 - val_loss: 0.4345 - val_accuracy: 0.8538\n",
            "Epoch 3/30\n",
            "1719/1719 [==============================] - 2s 881us/step - loss: 0.4485 - accuracy: 0.8423 - val_loss: 0.5334 - val_accuracy: 0.7982\n",
            "Epoch 4/30\n",
            "1719/1719 [==============================] - 2s 902us/step - loss: 0.4209 - accuracy: 0.8535 - val_loss: 0.3916 - val_accuracy: 0.8652\n",
            "Epoch 5/30\n",
            "1719/1719 [==============================] - 2s 908us/step - loss: 0.4061 - accuracy: 0.8580 - val_loss: 0.3750 - val_accuracy: 0.8686\n",
            "Epoch 6/30\n",
            "1719/1719 [==============================] - 2s 916us/step - loss: 0.3755 - accuracy: 0.8669 - val_loss: 0.3709 - val_accuracy: 0.8718\n",
            "Epoch 7/30\n",
            "1719/1719 [==============================] - 2s 879us/step - loss: 0.3655 - accuracy: 0.8711 - val_loss: 0.3618 - val_accuracy: 0.8722\n",
            "Epoch 8/30\n",
            "1719/1719 [==============================] - 2s 894us/step - loss: 0.3483 - accuracy: 0.8760 - val_loss: 0.3862 - val_accuracy: 0.8618\n",
            "Epoch 9/30\n",
            "1719/1719 [==============================] - 2s 906us/step - loss: 0.3486 - accuracy: 0.8756 - val_loss: 0.3604 - val_accuracy: 0.8696\n",
            "Epoch 10/30\n",
            "1719/1719 [==============================] - 2s 905us/step - loss: 0.3299 - accuracy: 0.8835 - val_loss: 0.3430 - val_accuracy: 0.8772\n",
            "Epoch 11/30\n",
            "1719/1719 [==============================] - 2s 926us/step - loss: 0.3219 - accuracy: 0.8831 - val_loss: 0.3439 - val_accuracy: 0.8772\n",
            "Epoch 12/30\n",
            "1719/1719 [==============================] - 2s 883us/step - loss: 0.3123 - accuracy: 0.8873 - val_loss: 0.3310 - val_accuracy: 0.8832\n",
            "Epoch 13/30\n",
            "1719/1719 [==============================] - 2s 914us/step - loss: 0.3055 - accuracy: 0.8893 - val_loss: 0.3263 - val_accuracy: 0.8878\n",
            "Epoch 14/30\n",
            "1719/1719 [==============================] - 2s 924us/step - loss: 0.2992 - accuracy: 0.8914 - val_loss: 0.3412 - val_accuracy: 0.8782\n",
            "Epoch 15/30\n",
            "1719/1719 [==============================] - 2s 885us/step - loss: 0.2936 - accuracy: 0.8939 - val_loss: 0.3218 - val_accuracy: 0.8848\n",
            "Epoch 16/30\n",
            "1719/1719 [==============================] - 2s 916us/step - loss: 0.2863 - accuracy: 0.8975 - val_loss: 0.3095 - val_accuracy: 0.8898\n",
            "Epoch 17/30\n",
            "1719/1719 [==============================] - 2s 905us/step - loss: 0.2781 - accuracy: 0.9004 - val_loss: 0.3572 - val_accuracy: 0.8736\n",
            "Epoch 18/30\n",
            "1719/1719 [==============================] - 2s 904us/step - loss: 0.2782 - accuracy: 0.8997 - val_loss: 0.3138 - val_accuracy: 0.8898\n",
            "Epoch 19/30\n",
            "1719/1719 [==============================] - 2s 921us/step - loss: 0.2742 - accuracy: 0.9026 - val_loss: 0.3130 - val_accuracy: 0.8894\n",
            "Epoch 20/30\n",
            "1719/1719 [==============================] - 2s 910us/step - loss: 0.2700 - accuracy: 0.9037 - val_loss: 0.3252 - val_accuracy: 0.8824\n",
            "Epoch 21/30\n",
            "1719/1719 [==============================] - 2s 891us/step - loss: 0.2671 - accuracy: 0.9050 - val_loss: 0.3049 - val_accuracy: 0.8930\n",
            "Epoch 22/30\n",
            "1719/1719 [==============================] - 2s 942us/step - loss: 0.2615 - accuracy: 0.9052 - val_loss: 0.2976 - val_accuracy: 0.8976\n",
            "Epoch 23/30\n",
            "1719/1719 [==============================] - 2s 928us/step - loss: 0.2548 - accuracy: 0.9084 - val_loss: 0.2983 - val_accuracy: 0.8930\n",
            "Epoch 24/30\n",
            "1719/1719 [==============================] - 2s 901us/step - loss: 0.2454 - accuracy: 0.9118 - val_loss: 0.3079 - val_accuracy: 0.8892\n",
            "Epoch 25/30\n",
            "1719/1719 [==============================] - 2s 922us/step - loss: 0.2496 - accuracy: 0.9109 - val_loss: 0.2975 - val_accuracy: 0.8956\n",
            "Epoch 26/30\n",
            "1719/1719 [==============================] - 2s 891us/step - loss: 0.2431 - accuracy: 0.9136 - val_loss: 0.3068 - val_accuracy: 0.8888\n",
            "Epoch 27/30\n",
            "1719/1719 [==============================] - 2s 883us/step - loss: 0.2374 - accuracy: 0.9163 - val_loss: 0.3023 - val_accuracy: 0.8938\n",
            "Epoch 28/30\n",
            "1719/1719 [==============================] - 2s 935us/step - loss: 0.2314 - accuracy: 0.9176 - val_loss: 0.2992 - val_accuracy: 0.8930\n",
            "Epoch 29/30\n",
            "1719/1719 [==============================] - 2s 917us/step - loss: 0.2284 - accuracy: 0.9177 - val_loss: 0.3053 - val_accuracy: 0.8896\n",
            "Epoch 30/30\n",
            "1719/1719 [==============================] - 2s 916us/step - loss: 0.2252 - accuracy: 0.9211 - val_loss: 0.3004 - val_accuracy: 0.8920\n"
          ]
        }
      ],
      "source": [
        "history = model.fit(X_train, y_train, epochs=30,\n",
        "                    validation_data=(X_valid, y_valid))"
      ]
    },
    {
      "cell_type": "code",
      "execution_count": null,
      "metadata": {
        "id": "tARGBXWr7fZJ",
        "outputId": "dbaae5f7-ee47-4843-9eb3-442f9090032d"
      },
      "outputs": [
        {
          "data": {
            "text/plain": [
              "{'verbose': 1, 'epochs': 30, 'steps': 1719}"
            ]
          },
          "execution_count": 38,
          "metadata": {},
          "output_type": "execute_result"
        }
      ],
      "source": [
        "history.params"
      ]
    },
    {
      "cell_type": "code",
      "execution_count": null,
      "metadata": {
        "id": "QcV2JCl67fZJ",
        "outputId": "c2e84aa0-ed2f-4773-b22b-afb81a7b3173"
      },
      "outputs": [
        {
          "name": "stdout",
          "output_type": "stream",
          "text": [
            "[0, 1, 2, 3, 4, 5, 6, 7, 8, 9, 10, 11, 12, 13, 14, 15, 16, 17, 18, 19, 20, 21, 22, 23, 24, 25, 26, 27, 28, 29]\n"
          ]
        }
      ],
      "source": [
        "print(history.epoch)"
      ]
    },
    {
      "cell_type": "code",
      "execution_count": null,
      "metadata": {
        "id": "3cvy38YW7fZK",
        "outputId": "07be6817-877a-43d9-fd19-3aaaf519e052"
      },
      "outputs": [
        {
          "data": {
            "text/plain": [
              "dict_keys(['loss', 'accuracy', 'val_loss', 'val_accuracy'])"
            ]
          },
          "execution_count": 40,
          "metadata": {},
          "output_type": "execute_result"
        }
      ],
      "source": [
        "history.history.keys()"
      ]
    },
    {
      "cell_type": "code",
      "execution_count": null,
      "metadata": {
        "id": "ZPrhjmQI7fZK",
        "outputId": "3563866b-a20e-4377-d341-7a44b6370233"
      },
      "outputs": [
        {
          "name": "stdout",
          "output_type": "stream",
          "text": [
            "Saving figure keras_learning_curves_plot\n"
          ]
        },
        {
          "data": {
            "image/png": "[encoded data removed]",
            "text/plain": [
              "<Figure size 576x360 with 1 Axes>"
            ]
          },
          "metadata": {
            "needs_background": "light"
          },
          "output_type": "display_data"
        }
      ],
      "source": [
        "import pandas as pd\n",
        "\n",
        "pd.DataFrame(history.history).plot(figsize=(8, 5))\n",
        "plt.grid(True)\n",
        "plt.gca().set_ylim(0, 1)\n",
        "save_fig(\"keras_learning_curves_plot\")\n",
        "plt.show()"
      ]
    },
    {
      "cell_type": "code",
      "execution_count": null,
      "metadata": {
        "id": "BVWc2pYn7fZL",
        "outputId": "1259cfb7-df7f-4df2-fd8c-ed22a8b6d26f"
      },
      "outputs": [
        {
          "name": "stdout",
          "output_type": "stream",
          "text": [
            "313/313 [==============================] - 0s 639us/step - loss: 0.3357 - accuracy: 0.8837\n"
          ]
        },
        {
          "data": {
            "text/plain": [
              "[0.3357059359550476, 0.8837000131607056]"
            ]
          },
          "execution_count": 42,
          "metadata": {},
          "output_type": "execute_result"
        }
      ],
      "source": [
        "model.evaluate(X_test, y_test)"
      ]
    },
    {
      "cell_type": "code",
      "execution_count": null,
      "metadata": {
        "id": "lPZ7K2i77fZM",
        "outputId": "c8ce53a1-12c1-4384-cc23-dc91414263f5"
      },
      "outputs": [
        {
          "data": {
            "text/plain": [
              "array([[0.  , 0.  , 0.  , 0.  , 0.  , 0.01, 0.  , 0.03, 0.  , 0.96],\n",
              "       [0.  , 0.  , 0.99, 0.  , 0.01, 0.  , 0.  , 0.  , 0.  , 0.  ],\n",
              "       [0.  , 1.  , 0.  , 0.  , 0.  , 0.  , 0.  , 0.  , 0.  , 0.  ]],\n",
              "      dtype=float32)"
            ]
          },
          "execution_count": 43,
          "metadata": {},
          "output_type": "execute_result"
        }
      ],
      "source": [
        "X_new = X_test[:3]\n",
        "y_proba = model.predict(X_new)\n",
        "y_proba.round(2)"
      ]
    },
    {
      "cell_type": "markdown",
      "metadata": {
        "id": "WmgD_9YB7fZN"
      },
      "source": [
        "**Warning**: `model.predict_classes(X_new)` is deprecated. It is replaced with `np.argmax(model.predict(X_new), axis=-1)`."
      ]
    },
    {
      "cell_type": "code",
      "execution_count": null,
      "metadata": {
        "id": "aiAH0UUV7fZN",
        "outputId": "f84c33bb-1dbe-491c-a92b-3b81498f1259"
      },
      "outputs": [
        {
          "data": {
            "text/plain": [
              "array([9, 2, 1])"
            ]
          },
          "execution_count": 44,
          "metadata": {},
          "output_type": "execute_result"
        }
      ],
      "source": [
        "#y_pred = model.predict_classes(X_new) # deprecated\n",
        "y_pred = np.argmax(model.predict(X_new), axis=-1)\n",
        "y_pred"
      ]
    },
    {
      "cell_type": "code",
      "execution_count": null,
      "metadata": {
        "id": "nRZn6r257fZN",
        "outputId": "cd663408-0875-474c-9f29-56eb4e17a348"
      },
      "outputs": [
        {
          "data": {
            "text/plain": [
              "array(['Ankle boot', 'Pullover', 'Trouser'], dtype='<U11')"
            ]
          },
          "execution_count": 45,
          "metadata": {},
          "output_type": "execute_result"
        }
      ],
      "source": [
        "np.array(class_names)[y_pred]"
      ]
    },
    {
      "cell_type": "code",
      "execution_count": null,
      "metadata": {
        "id": "hhuRB2R27fZN",
        "outputId": "1c7a1e5b-025e-4845-80e3-bbe1ee226951"
      },
      "outputs": [
        {
          "data": {
            "text/plain": [
              "array([9, 2, 1], dtype=uint8)"
            ]
          },
          "execution_count": 46,
          "metadata": {},
          "output_type": "execute_result"
        }
      ],
      "source": [
        "y_new = y_test[:3]\n",
        "y_new"
      ]
    },
    {
      "cell_type": "code",
      "execution_count": null,
      "metadata": {
        "id": "s4G_FZm27fZO",
        "outputId": "86985573-0881-4b15-fdce-27072463d7f7"
      },
      "outputs": [
        {
          "name": "stdout",
          "output_type": "stream",
          "text": [
            "Saving figure fashion_mnist_images_plot\n"
          ]
        },
        {
          "data": {
            "image/png": "[encoded data removed]",
            "text/plain": [
              "<Figure size 518.4x172.8 with 3 Axes>"
            ]
          },
          "metadata": {
            "needs_background": "light"
          },
          "output_type": "display_data"
        }
      ],
      "source": [
        "plt.figure(figsize=(7.2, 2.4))\n",
        "for index, image in enumerate(X_new):\n",
        "    plt.subplot(1, 3, index + 1)\n",
        "    plt.imshow(image, cmap=\"binary\", interpolation=\"nearest\")\n",
        "    plt.axis('off')\n",
        "    plt.title(class_names[y_test[index]], fontsize=12)\n",
        "plt.subplots_adjust(wspace=0.2, hspace=0.5)\n",
        "save_fig('fashion_mnist_images_plot', tight_layout=False)\n",
        "plt.show()"
      ]
    },
    {
      "cell_type": "markdown",
      "metadata": {
        "id": "0gl7niRI7fZO"
      },
      "source": [
        "# Regression MLP"
      ]
    },
    {
      "cell_type": "markdown",
      "metadata": {
        "id": "NS_zI7cC7fZP"
      },
      "source": [
        "Let's load, split and scale the California housing dataset (the original one, not the modified one as in chapter 2):"
      ]
    },
    {
      "cell_type": "code",
      "execution_count": null,
      "metadata": {
        "id": "4PyrMsCr7fZP"
      },
      "outputs": [],
      "source": [
        "from sklearn.datasets import fetch_california_housing\n",
        "from sklearn.model_selection import train_test_split\n",
        "from sklearn.preprocessing import StandardScaler\n",
        "\n",
        "housing = fetch_california_housing()\n",
        "\n",
        "X_train_full, X_test, y_train_full, y_test = train_test_split(housing.data, housing.target, random_state=42)\n",
        "X_train, X_valid, y_train, y_valid = train_test_split(X_train_full, y_train_full, random_state=42)\n",
        "\n",
        "scaler = StandardScaler()\n",
        "X_train = scaler.fit_transform(X_train)\n",
        "X_valid = scaler.transform(X_valid)\n",
        "X_test = scaler.transform(X_test)"
      ]
    },
    {
      "cell_type": "code",
      "execution_count": null,
      "metadata": {
        "id": "9Z_grBJl7fZP"
      },
      "outputs": [],
      "source": [
        "np.random.seed(42)\n",
        "tf.random.set_seed(42)"
      ]
    },
    {
      "cell_type": "code",
      "execution_count": null,
      "metadata": {
        "id": "pKcP2QAS7fZP",
        "outputId": "33d61df2-21b2-4537-f6e1-6be3dedd71f4"
      },
      "outputs": [
        {
          "name": "stdout",
          "output_type": "stream",
          "text": [
            "Epoch 1/20\n",
            "363/363 [==============================] - 0s 893us/step - loss: 2.2656 - val_loss: 0.8560\n",
            "Epoch 2/20\n",
            "363/363 [==============================] - 0s 670us/step - loss: 0.7413 - val_loss: 0.6531\n",
            "Epoch 3/20\n",
            "363/363 [==============================] - 0s 661us/step - loss: 0.6604 - val_loss: 0.6099\n",
            "Epoch 4/20\n",
            "363/363 [==============================] - 0s 640us/step - loss: 0.6245 - val_loss: 0.5658\n",
            "Epoch 5/20\n",
            "363/363 [==============================] - 0s 688us/step - loss: 0.5770 - val_loss: 0.5355\n",
            "Epoch 6/20\n",
            "363/363 [==============================] - 0s 668us/step - loss: 0.5609 - val_loss: 0.5173\n",
            "Epoch 7/20\n",
            "363/363 [==============================] - 0s 667us/step - loss: 0.5500 - val_loss: 0.5081\n",
            "Epoch 8/20\n",
            "363/363 [==============================] - 0s 647us/step - loss: 0.5200 - val_loss: 0.4799\n",
            "Epoch 9/20\n",
            "363/363 [==============================] - 0s 683us/step - loss: 0.5051 - val_loss: 0.4690\n",
            "Epoch 10/20\n",
            "363/363 [==============================] - 0s 679us/step - loss: 0.4910 - val_loss: 0.4656\n",
            "Epoch 11/20\n",
            "363/363 [==============================] - 0s 643us/step - loss: 0.4794 - val_loss: 0.4482\n",
            "Epoch 12/20\n",
            "363/363 [==============================] - 0s 644us/step - loss: 0.4656 - val_loss: 0.4479\n",
            "Epoch 13/20\n",
            "363/363 [==============================] - 0s 666us/step - loss: 0.4693 - val_loss: 0.4296\n",
            "Epoch 14/20\n",
            "363/363 [==============================] - 0s 655us/step - loss: 0.4537 - val_loss: 0.4233\n",
            "Epoch 15/20\n",
            "363/363 [==============================] - 0s 636us/step - loss: 0.4586 - val_loss: 0.4176\n",
            "Epoch 16/20\n",
            "363/363 [==============================] - 0s 646us/step - loss: 0.4612 - val_loss: 0.4123\n",
            "Epoch 17/20\n",
            "363/363 [==============================] - 0s 620us/step - loss: 0.4449 - val_loss: 0.4071\n",
            "Epoch 18/20\n",
            "363/363 [==============================] - 0s 675us/step - loss: 0.4407 - val_loss: 0.4037\n",
            "Epoch 19/20\n",
            "363/363 [==============================] - 0s 650us/step - loss: 0.4184 - val_loss: 0.4000\n",
            "Epoch 20/20\n",
            "363/363 [==============================] - 0s 646us/step - loss: 0.4128 - val_loss: 0.3969\n",
            "162/162 [==============================] - 0s 428us/step - loss: 0.4212\n"
          ]
        }
      ],
      "source": [
        "model = keras.models.Sequential([\n",
        "    keras.layers.Dense(30, activation=\"relu\", input_shape=X_train.shape[1:]),\n",
        "    keras.layers.Dense(1)\n",
        "])\n",
        "model.compile(loss=\"mean_squared_error\", optimizer=keras.optimizers.SGD(learning_rate=1e-3))\n",
        "history = model.fit(X_train, y_train, epochs=20, validation_data=(X_valid, y_valid))\n",
        "mse_test = model.evaluate(X_test, y_test)\n",
        "X_new = X_test[:3]\n",
        "y_pred = model.predict(X_new)"
      ]
    },
    {
      "cell_type": "code",
      "execution_count": null,
      "metadata": {
        "id": "6kvrT0Rj7fZQ",
        "outputId": "7eb6e334-fedf-4245-85c0-97e6ef1c11b5"
      },
      "outputs": [
        {
          "data": {
            "image/png": "[encoded data removed]",
            "text/plain": [
              "<Figure size 432x288 with 1 Axes>"
            ]
          },
          "metadata": {
            "needs_background": "light"
          },
          "output_type": "display_data"
        }
      ],
      "source": [
        "plt.plot(pd.DataFrame(history.history))\n",
        "plt.grid(True)\n",
        "plt.gca().set_ylim(0, 1)\n",
        "plt.show()"
      ]
    },
    {
      "cell_type": "code",
      "execution_count": null,
      "metadata": {
        "id": "TdpMCT3Q7fZQ",
        "outputId": "45b4176e-ae14-4ff4-8e32-142a0c9ed3b1"
      },
      "outputs": [
        {
          "data": {
            "text/plain": [
              "array([[0.3885664],\n",
              "       [1.6792021],\n",
              "       [3.1022797]], dtype=float32)"
            ]
          },
          "execution_count": 52,
          "metadata": {},
          "output_type": "execute_result"
        }
      ],
      "source": [
        "y_pred"
      ]
    },
    {
      "cell_type": "markdown",
      "metadata": {
        "id": "aLQpNsgV7fZQ"
      },
      "source": [
        "# Functional API"
      ]
    },
    {
      "cell_type": "markdown",
      "metadata": {
        "id": "xMcyIgKC7fZR"
      },
      "source": [
        "Not all neural network models are simply sequential. Some may have complex topologies. Some may have multiple inputs and/or multiple outputs. For example, a Wide & Deep neural network (see [paper](https://ai.google/research/pubs/pub45413)) connects all or part of the inputs directly to the output layer."
      ]
    },
    {
      "cell_type": "code",
      "execution_count": null,
      "metadata": {
        "id": "tWeVJhIg7fZR"
      },
      "outputs": [],
      "source": [
        "np.random.seed(42)\n",
        "tf.random.set_seed(42)"
      ]
    },
    {
      "cell_type": "code",
      "execution_count": null,
      "metadata": {
        "id": "bNGaSmNP7fZR"
      },
      "outputs": [],
      "source": [
        "input_ = keras.layers.Input(shape=X_train.shape[1:])\n",
        "hidden1 = keras.layers.Dense(30, activation=\"relu\")(input_)\n",
        "hidden2 = keras.layers.Dense(30, activation=\"relu\")(hidden1)\n",
        "concat = keras.layers.concatenate([input_, hidden2])\n",
        "output = keras.layers.Dense(1)(concat)\n",
        "model = keras.models.Model(inputs=[input_], outputs=[output])"
      ]
    },
    {
      "cell_type": "code",
      "execution_count": null,
      "metadata": {
        "id": "1NwCqNwO7fZR",
        "outputId": "e0bafa5c-198f-48a4-ac31-2085d070b744"
      },
      "outputs": [
        {
          "name": "stdout",
          "output_type": "stream",
          "text": [
            "Model: \"model\"\n",
            "__________________________________________________________________________________________________\n",
            "Layer (type)                    Output Shape         Param #     Connected to                     \n",
            "==================================================================================================\n",
            "input_1 (InputLayer)            [(None, 8)]          0                                            \n",
            "__________________________________________________________________________________________________\n",
            "dense_5 (Dense)                 (None, 30)           270         input_1[0][0]                    \n",
            "__________________________________________________________________________________________________\n",
            "dense_6 (Dense)                 (None, 30)           930         dense_5[0][0]                    \n",
            "__________________________________________________________________________________________________\n",
            "concatenate (Concatenate)       (None, 38)           0           input_1[0][0]                    \n",
            "                                                                 dense_6[0][0]                    \n",
            "__________________________________________________________________________________________________\n",
            "dense_7 (Dense)                 (None, 1)            39          concatenate[0][0]                \n",
            "==================================================================================================\n",
            "Total params: 1,239\n",
            "Trainable params: 1,239\n",
            "Non-trainable params: 0\n",
            "__________________________________________________________________________________________________\n"
          ]
        }
      ],
      "source": [
        "model.summary()"
      ]
    },
    {
      "cell_type": "code",
      "execution_count": null,
      "metadata": {
        "id": "qiYxqdW_7fZS",
        "outputId": "b55240f6-c8b1-420e-b26f-02a88a19f664"
      },
      "outputs": [
        {
          "name": "stdout",
          "output_type": "stream",
          "text": [
            "Epoch 1/20\n",
            "363/363 [==============================] - 1s 887us/step - loss: 1.9731 - val_loss: 3.3940\n",
            "Epoch 2/20\n",
            "363/363 [==============================] - 0s 683us/step - loss: 0.7638 - val_loss: 0.9360\n",
            "Epoch 3/20\n",
            "363/363 [==============================] - 0s 687us/step - loss: 0.6045 - val_loss: 0.5649\n",
            "Epoch 4/20\n",
            "363/363 [==============================] - 0s 709us/step - loss: 0.5862 - val_loss: 0.5712\n",
            "Epoch 5/20\n",
            "363/363 [==============================] - 0s 707us/step - loss: 0.5452 - val_loss: 0.5045\n",
            "Epoch 6/20\n",
            "363/363 [==============================] - 0s 672us/step - loss: 0.5243 - val_loss: 0.4831\n",
            "Epoch 7/20\n",
            "363/363 [==============================] - 0s 681us/step - loss: 0.5185 - val_loss: 0.4639\n",
            "Epoch 8/20\n",
            "363/363 [==============================] - 0s 700us/step - loss: 0.4947 - val_loss: 0.4638\n",
            "Epoch 9/20\n",
            "363/363 [==============================] - 0s 675us/step - loss: 0.4782 - val_loss: 0.4421\n",
            "Epoch 10/20\n",
            "363/363 [==============================] - 0s 693us/step - loss: 0.4708 - val_loss: 0.4313\n",
            "Epoch 11/20\n",
            "363/363 [==============================] - 0s 668us/step - loss: 0.4585 - val_loss: 0.4345\n",
            "Epoch 12/20\n",
            "363/363 [==============================] - 0s 686us/step - loss: 0.4481 - val_loss: 0.4168\n",
            "Epoch 13/20\n",
            "363/363 [==============================] - 0s 675us/step - loss: 0.4476 - val_loss: 0.4230\n",
            "Epoch 14/20\n",
            "363/363 [==============================] - 0s 681us/step - loss: 0.4361 - val_loss: 0.4047\n",
            "Epoch 15/20\n",
            "363/363 [==============================] - 0s 698us/step - loss: 0.4392 - val_loss: 0.4078\n",
            "Epoch 16/20\n",
            "363/363 [==============================] - 0s 682us/step - loss: 0.4420 - val_loss: 0.3938\n",
            "Epoch 17/20\n",
            "363/363 [==============================] - 0s 680us/step - loss: 0.4277 - val_loss: 0.3952\n",
            "Epoch 18/20\n",
            "363/363 [==============================] - 0s 671us/step - loss: 0.4216 - val_loss: 0.3860\n",
            "Epoch 19/20\n",
            "363/363 [==============================] - 0s 660us/step - loss: 0.4033 - val_loss: 0.3827\n",
            "Epoch 20/20\n",
            "363/363 [==============================] - 0s 662us/step - loss: 0.3939 - val_loss: 0.4054\n",
            "162/162 [==============================] - 0s 423us/step - loss: 0.4032\n"
          ]
        }
      ],
      "source": [
        "model.compile(loss=\"mean_squared_error\", optimizer=keras.optimizers.SGD(learning_rate=1e-3))\n",
        "history = model.fit(X_train, y_train, epochs=20,\n",
        "                    validation_data=(X_valid, y_valid))\n",
        "mse_test = model.evaluate(X_test, y_test)\n",
        "y_pred = model.predict(X_new)"
      ]
    },
    {
      "cell_type": "markdown",
      "metadata": {
        "id": "zFHt5vEP7fZS"
      },
      "source": [
        "What if you want to send different subsets of input features through the wide or deep paths? We will send 5 features (features 0 to 4), and 6 through the deep path (features 2 to 7). Note that 3 features will go through both (features 2, 3 and 4)."
      ]
    },
    {
      "cell_type": "code",
      "execution_count": null,
      "metadata": {
        "id": "kYjxOmuu7fZS"
      },
      "outputs": [],
      "source": [
        "np.random.seed(42)\n",
        "tf.random.set_seed(42)"
      ]
    },
    {
      "cell_type": "code",
      "execution_count": null,
      "metadata": {
        "id": "LwUQFHrw7fZT"
      },
      "outputs": [],
      "source": [
        "input_A = keras.layers.Input(shape=[5], name=\"wide_input\")\n",
        "input_B = keras.layers.Input(shape=[6], name=\"deep_input\")\n",
        "hidden1 = keras.layers.Dense(30, activation=\"relu\")(input_B)\n",
        "hidden2 = keras.layers.Dense(30, activation=\"relu\")(hidden1)\n",
        "concat = keras.layers.concatenate([input_A, hidden2])\n",
        "output = keras.layers.Dense(1, name=\"output\")(concat)\n",
        "model = keras.models.Model(inputs=[input_A, input_B], outputs=[output])"
      ]
    },
    {
      "cell_type": "code",
      "execution_count": null,
      "metadata": {
        "id": "yBTTtim77fZT",
        "outputId": "c2b42986-d396-4b78-e17f-eb199d77182c"
      },
      "outputs": [
        {
          "name": "stdout",
          "output_type": "stream",
          "text": [
            "Epoch 1/20\n",
            "363/363 [==============================] - 1s 934us/step - loss: 3.1941 - val_loss: 0.8072\n",
            "Epoch 2/20\n",
            "363/363 [==============================] - 0s 734us/step - loss: 0.7247 - val_loss: 0.6658\n",
            "Epoch 3/20\n",
            "363/363 [==============================] - 0s 719us/step - loss: 0.6176 - val_loss: 0.5687\n",
            "Epoch 4/20\n",
            "363/363 [==============================] - 0s 718us/step - loss: 0.5799 - val_loss: 0.5296\n",
            "Epoch 5/20\n",
            "363/363 [==============================] - 0s 689us/step - loss: 0.5409 - val_loss: 0.4993\n",
            "Epoch 6/20\n",
            "363/363 [==============================] - 0s 717us/step - loss: 0.5173 - val_loss: 0.4811\n",
            "Epoch 7/20\n",
            "363/363 [==============================] - 0s 708us/step - loss: 0.5186 - val_loss: 0.4696\n",
            "Epoch 8/20\n",
            "363/363 [==============================] - 0s 697us/step - loss: 0.4977 - val_loss: 0.4496\n",
            "Epoch 9/20\n",
            "363/363 [==============================] - 0s 713us/step - loss: 0.4765 - val_loss: 0.4404\n",
            "Epoch 10/20\n",
            "363/363 [==============================] - 0s 723us/step - loss: 0.4676 - val_loss: 0.4315\n",
            "Epoch 11/20\n",
            "363/363 [==============================] - 0s 713us/step - loss: 0.4574 - val_loss: 0.4268\n",
            "Epoch 12/20\n",
            "363/363 [==============================] - 0s 697us/step - loss: 0.4479 - val_loss: 0.4166\n",
            "Epoch 13/20\n",
            "363/363 [==============================] - 0s 710us/step - loss: 0.4487 - val_loss: 0.4125\n",
            "Epoch 14/20\n",
            "363/363 [==============================] - 0s 684us/step - loss: 0.4469 - val_loss: 0.4074\n",
            "Epoch 15/20\n",
            "363/363 [==============================] - 0s 738us/step - loss: 0.4460 - val_loss: 0.4044\n",
            "Epoch 16/20\n",
            "363/363 [==============================] - 0s 734us/step - loss: 0.4495 - val_loss: 0.4007\n",
            "Epoch 17/20\n",
            "363/363 [==============================] - 0s 698us/step - loss: 0.4378 - val_loss: 0.4013\n",
            "Epoch 18/20\n",
            "363/363 [==============================] - 0s 715us/step - loss: 0.4375 - val_loss: 0.3987\n",
            "Epoch 19/20\n",
            "363/363 [==============================] - 0s 733us/step - loss: 0.4151 - val_loss: 0.3934\n",
            "Epoch 20/20\n",
            "363/363 [==============================] - 0s 701us/step - loss: 0.4078 - val_loss: 0.4204\n",
            "162/162 [==============================] - 0s 447us/step - loss: 0.4219\n"
          ]
        }
      ],
      "source": [
        "model.compile(loss=\"mse\", optimizer=keras.optimizers.SGD(learning_rate=1e-3))\n",
        "\n",
        "X_train_A, X_train_B = X_train[:, :5], X_train[:, 2:]\n",
        "X_valid_A, X_valid_B = X_valid[:, :5], X_valid[:, 2:]\n",
        "X_test_A, X_test_B = X_test[:, :5], X_test[:, 2:]\n",
        "X_new_A, X_new_B = X_test_A[:3], X_test_B[:3]\n",
        "\n",
        "history = model.fit((X_train_A, X_train_B), y_train, epochs=20,\n",
        "                    validation_data=((X_valid_A, X_valid_B), y_valid))\n",
        "mse_test = model.evaluate((X_test_A, X_test_B), y_test)\n",
        "y_pred = model.predict((X_new_A, X_new_B))"
      ]
    },
    {
      "cell_type": "markdown",
      "metadata": {
        "id": "uED7cG797fZT"
      },
      "source": [
        "Adding an auxiliary output for regularization:"
      ]
    },
    {
      "cell_type": "code",
      "execution_count": null,
      "metadata": {
        "id": "Gt23nQnk7fZT"
      },
      "outputs": [],
      "source": [
        "np.random.seed(42)\n",
        "tf.random.set_seed(42)"
      ]
    },
    {
      "cell_type": "code",
      "execution_count": null,
      "metadata": {
        "id": "mtf6S0Ds7fZT"
      },
      "outputs": [],
      "source": [
        "input_A = keras.layers.Input(shape=[5], name=\"wide_input\")\n",
        "input_B = keras.layers.Input(shape=[6], name=\"deep_input\")\n",
        "hidden1 = keras.layers.Dense(30, activation=\"relu\")(input_B)\n",
        "hidden2 = keras.layers.Dense(30, activation=\"relu\")(hidden1)\n",
        "concat = keras.layers.concatenate([input_A, hidden2])\n",
        "output = keras.layers.Dense(1, name=\"main_output\")(concat)\n",
        "aux_output = keras.layers.Dense(1, name=\"aux_output\")(hidden2)\n",
        "model = keras.models.Model(inputs=[input_A, input_B],\n",
        "                           outputs=[output, aux_output])"
      ]
    },
    {
      "cell_type": "code",
      "execution_count": null,
      "metadata": {
        "id": "uk5RlkWX7fZU"
      },
      "outputs": [],
      "source": [
        "model.compile(loss=[\"mse\", \"mse\"], loss_weights=[0.9, 0.1], optimizer=keras.optimizers.SGD(learning_rate=1e-3))"
      ]
    },
    {
      "cell_type": "code",
      "execution_count": null,
      "metadata": {
        "id": "rqhoAFxG7fZU",
        "outputId": "beedad71-eebc-4b4c-d716-8a809f62c353"
      },
      "outputs": [
        {
          "name": "stdout",
          "output_type": "stream",
          "text": [
            "Epoch 1/20\n",
            "363/363 [==============================] - 1s 1ms/step - loss: 3.4633 - main_output_loss: 3.3289 - aux_output_loss: 4.6732 - val_loss: 1.6233 - val_main_output_loss: 0.8468 - val_aux_output_loss: 8.6117\n",
            "Epoch 2/20\n",
            "363/363 [==============================] - 0s 879us/step - loss: 0.9807 - main_output_loss: 0.7503 - aux_output_loss: 3.0537 - val_loss: 1.5163 - val_main_output_loss: 0.6836 - val_aux_output_loss: 9.0109\n",
            "Epoch 3/20\n",
            "363/363 [==============================] - 0s 890us/step - loss: 0.7742 - main_output_loss: 0.6290 - aux_output_loss: 2.0810 - val_loss: 1.4639 - val_main_output_loss: 0.6229 - val_aux_output_loss: 9.0326\n",
            "Epoch 4/20\n",
            "363/363 [==============================] - 0s 847us/step - loss: 0.6952 - main_output_loss: 0.5897 - aux_output_loss: 1.6449 - val_loss: 1.3388 - val_main_output_loss: 0.5481 - val_aux_output_loss: 8.4552\n",
            "Epoch 5/20\n",
            "363/363 [==============================] - 0s 902us/step - loss: 0.6469 - main_output_loss: 0.5508 - aux_output_loss: 1.5118 - val_loss: 1.2177 - val_main_output_loss: 0.5194 - val_aux_output_loss: 7.5030\n",
            "Epoch 6/20\n",
            "363/363 [==============================] - 0s 867us/step - loss: 0.6120 - main_output_loss: 0.5251 - aux_output_loss: 1.3943 - val_loss: 1.0935 - val_main_output_loss: 0.5106 - val_aux_output_loss: 6.3396\n",
            "Epoch 7/20\n",
            "363/363 [==============================] - 0s 864us/step - loss: 0.6114 - main_output_loss: 0.5256 - aux_output_loss: 1.3833 - val_loss: 0.9918 - val_main_output_loss: 0.5115 - val_aux_output_loss: 5.3151\n",
            "Epoch 8/20\n",
            "363/363 [==============================] - 0s 850us/step - loss: 0.5765 - main_output_loss: 0.5024 - aux_output_loss: 1.2439 - val_loss: 0.8733 - val_main_output_loss: 0.4733 - val_aux_output_loss: 4.4740\n",
            "Epoch 9/20\n",
            "363/363 [==============================] - 0s 882us/step - loss: 0.5535 - main_output_loss: 0.4811 - aux_output_loss: 1.2057 - val_loss: 0.7832 - val_main_output_loss: 0.4555 - val_aux_output_loss: 3.7323\n",
            "Epoch 10/20\n",
            "363/363 [==============================] - 0s 846us/step - loss: 0.5456 - main_output_loss: 0.4708 - aux_output_loss: 1.2189 - val_loss: 0.7170 - val_main_output_loss: 0.4604 - val_aux_output_loss: 3.0262\n",
            "Epoch 11/20\n",
            "363/363 [==============================] - 0s 875us/step - loss: 0.5297 - main_output_loss: 0.4587 - aux_output_loss: 1.1684 - val_loss: 0.6510 - val_main_output_loss: 0.4293 - val_aux_output_loss: 2.6468\n",
            "Epoch 12/20\n",
            "363/363 [==============================] - 0s 879us/step - loss: 0.5181 - main_output_loss: 0.4501 - aux_output_loss: 1.1305 - val_loss: 0.6051 - val_main_output_loss: 0.4310 - val_aux_output_loss: 2.1722\n",
            "Epoch 13/20\n",
            "363/363 [==============================] - 0s 879us/step - loss: 0.5100 - main_output_loss: 0.4487 - aux_output_loss: 1.0620 - val_loss: 0.5644 - val_main_output_loss: 0.4161 - val_aux_output_loss: 1.8992\n",
            "Epoch 14/20\n",
            "363/363 [==============================] - 0s 884us/step - loss: 0.5064 - main_output_loss: 0.4459 - aux_output_loss: 1.0503 - val_loss: 0.5354 - val_main_output_loss: 0.4119 - val_aux_output_loss: 1.6466\n",
            "Epoch 15/20\n",
            "363/363 [==============================] - 0s 878us/step - loss: 0.5027 - main_output_loss: 0.4452 - aux_output_loss: 1.0207 - val_loss: 0.5124 - val_main_output_loss: 0.4047 - val_aux_output_loss: 1.4812\n",
            "Epoch 16/20\n",
            "363/363 [==============================] - 0s 864us/step - loss: 0.5057 - main_output_loss: 0.4480 - aux_output_loss: 1.0249 - val_loss: 0.4934 - val_main_output_loss: 0.4034 - val_aux_output_loss: 1.3035\n",
            "Epoch 17/20\n",
            "363/363 [==============================] - 0s 855us/step - loss: 0.4931 - main_output_loss: 0.4360 - aux_output_loss: 1.0075 - val_loss: 0.4801 - val_main_output_loss: 0.3984 - val_aux_output_loss: 1.2150\n",
            "Epoch 18/20\n",
            "363/363 [==============================] - 0s 863us/step - loss: 0.4922 - main_output_loss: 0.4352 - aux_output_loss: 1.0053 - val_loss: 0.4694 - val_main_output_loss: 0.3962 - val_aux_output_loss: 1.1279\n",
            "Epoch 19/20\n",
            "363/363 [==============================] - 0s 895us/step - loss: 0.4658 - main_output_loss: 0.4139 - aux_output_loss: 0.9323 - val_loss: 0.4580 - val_main_output_loss: 0.3936 - val_aux_output_loss: 1.0372\n",
            "Epoch 20/20\n",
            "363/363 [==============================] - 0s 870us/step - loss: 0.4589 - main_output_loss: 0.4072 - aux_output_loss: 0.9243 - val_loss: 0.4655 - val_main_output_loss: 0.4048 - val_aux_output_loss: 1.0118\n"
          ]
        }
      ],
      "source": [
        "history = model.fit([X_train_A, X_train_B], [y_train, y_train], epochs=20,\n",
        "                    validation_data=([X_valid_A, X_valid_B], [y_valid, y_valid]))"
      ]
    },
    {
      "cell_type": "code",
      "execution_count": null,
      "metadata": {
        "id": "odSCsLU47fZU",
        "outputId": "d9893a96-70e5-45c8-c8bd-15440aec7675"
      },
      "outputs": [
        {
          "name": "stdout",
          "output_type": "stream",
          "text": [
            "162/162 [==============================] - 0s 546us/step - loss: 0.4668 - main_output_loss: 0.4178 - aux_output_loss: 0.9082\n",
            "WARNING:tensorflow:5 out of the last 6 calls to <function Model.make_predict_function.<locals>.predict_function at 0x7fd97a1a24d0> triggered tf.function retracing. Tracing is expensive and the excessive number of tracings could be due to (1) creating @tf.function repeatedly in a loop, (2) passing tensors with different shapes, (3) passing Python objects instead of tensors. For (1), please define your @tf.function outside of the loop. For (2), @tf.function has experimental_relax_shapes=True option that relaxes argument shapes that can avoid unnecessary retracing. For (3), please refer to https://www.tensorflow.org/guide/function#controlling_retracing and https://www.tensorflow.org/api_docs/python/tf/function for  more details.\n"
          ]
        }
      ],
      "source": [
        "total_loss, main_loss, aux_loss = model.evaluate(\n",
        "    [X_test_A, X_test_B], [y_test, y_test])\n",
        "y_pred_main, y_pred_aux = model.predict([X_new_A, X_new_B])"
      ]
    },
    {
      "cell_type": "markdown",
      "metadata": {
        "id": "UcCl7TKx7fZU"
      },
      "source": [
        "# The subclassing API"
      ]
    },
    {
      "cell_type": "code",
      "execution_count": null,
      "metadata": {
        "id": "u4BJ87L27fZU"
      },
      "outputs": [],
      "source": [
        "class WideAndDeepModel(keras.models.Model):\n",
        "    def __init__(self, units=30, activation=\"relu\", **kwargs):\n",
        "        super().__init__(**kwargs)\n",
        "        self.hidden1 = keras.layers.Dense(units, activation=activation)\n",
        "        self.hidden2 = keras.layers.Dense(units, activation=activation)\n",
        "        self.main_output = keras.layers.Dense(1)\n",
        "        self.aux_output = keras.layers.Dense(1)\n",
        "\n",
        "    def call(self, inputs):\n",
        "        input_A, input_B = inputs\n",
        "        hidden1 = self.hidden1(input_B)\n",
        "        hidden2 = self.hidden2(hidden1)\n",
        "        concat = keras.layers.concatenate([input_A, hidden2])\n",
        "        main_output = self.main_output(concat)\n",
        "        aux_output = self.aux_output(hidden2)\n",
        "        return main_output, aux_output\n",
        "\n",
        "model = WideAndDeepModel(30, activation=\"relu\")"
      ]
    },
    {
      "cell_type": "code",
      "execution_count": null,
      "metadata": {
        "id": "h6He4Xo_7fZV",
        "outputId": "feac2efd-02cc-48b9-ce32-5df5dada8bec"
      },
      "outputs": [
        {
          "name": "stdout",
          "output_type": "stream",
          "text": [
            "Epoch 1/10\n",
            "363/363 [==============================] - 1s 1ms/step - loss: 3.3855 - output_1_loss: 3.3304 - output_2_loss: 3.8821 - val_loss: 2.1435 - val_output_1_loss: 1.1581 - val_output_2_loss: 11.0117\n",
            "Epoch 2/10\n",
            "363/363 [==============================] - 0s 852us/step - loss: 1.0790 - output_1_loss: 0.9329 - output_2_loss: 2.3942 - val_loss: 1.7567 - val_output_1_loss: 0.8205 - val_output_2_loss: 10.1825\n",
            "Epoch 3/10\n",
            "363/363 [==============================] - 0s 885us/step - loss: 0.8644 - output_1_loss: 0.7583 - output_2_loss: 1.8194 - val_loss: 1.5664 - val_output_1_loss: 0.7913 - val_output_2_loss: 8.5419\n",
            "Epoch 4/10\n",
            "363/363 [==============================] - 0s 863us/step - loss: 0.7850 - output_1_loss: 0.6979 - output_2_loss: 1.5689 - val_loss: 1.3088 - val_output_1_loss: 0.6549 - val_output_2_loss: 7.1933\n",
            "Epoch 5/10\n",
            "363/363 [==============================] - 0s 843us/step - loss: 0.7294 - output_1_loss: 0.6499 - output_2_loss: 1.4452 - val_loss: 1.1357 - val_output_1_loss: 0.5964 - val_output_2_loss: 5.9898\n",
            "Epoch 6/10\n",
            "363/363 [==============================] - 0s 837us/step - loss: 0.6880 - output_1_loss: 0.6092 - output_2_loss: 1.3974 - val_loss: 1.0036 - val_output_1_loss: 0.5937 - val_output_2_loss: 4.6933\n",
            "Epoch 7/10\n",
            "363/363 [==============================] - 0s 866us/step - loss: 0.6918 - output_1_loss: 0.6143 - output_2_loss: 1.3899 - val_loss: 0.8904 - val_output_1_loss: 0.5591 - val_output_2_loss: 3.8714\n",
            "Epoch 8/10\n",
            "363/363 [==============================] - 0s 840us/step - loss: 0.6504 - output_1_loss: 0.5805 - output_2_loss: 1.2797 - val_loss: 0.8009 - val_output_1_loss: 0.5243 - val_output_2_loss: 3.2903\n",
            "Epoch 9/10\n",
            "363/363 [==============================] - 0s 842us/step - loss: 0.6270 - output_1_loss: 0.5574 - output_2_loss: 1.2533 - val_loss: 0.7357 - val_output_1_loss: 0.5144 - val_output_2_loss: 2.7275\n",
            "Epoch 10/10\n",
            "363/363 [==============================] - 0s 863us/step - loss: 0.6160 - output_1_loss: 0.5456 - output_2_loss: 1.2495 - val_loss: 0.6849 - val_output_1_loss: 0.5014 - val_output_2_loss: 2.3370\n",
            "162/162 [==============================] - 0s 546us/step - loss: 0.5841 - output_1_loss: 0.5188 - output_2_loss: 1.1722\n",
            "WARNING:tensorflow:6 out of the last 7 calls to <function Model.make_predict_function.<locals>.predict_function at 0x7fd9725c2320> triggered tf.function retracing. Tracing is expensive and the excessive number of tracings could be due to (1) creating @tf.function repeatedly in a loop, (2) passing tensors with different shapes, (3) passing Python objects instead of tensors. For (1), please define your @tf.function outside of the loop. For (2), @tf.function has experimental_relax_shapes=True option that relaxes argument shapes that can avoid unnecessary retracing. For (3), please refer to https://www.tensorflow.org/guide/function#controlling_retracing and https://www.tensorflow.org/api_docs/python/tf/function for  more details.\n"
          ]
        }
      ],
      "source": [
        "model.compile(loss=\"mse\", loss_weights=[0.9, 0.1], optimizer=keras.optimizers.SGD(learning_rate=1e-3))\n",
        "history = model.fit((X_train_A, X_train_B), (y_train, y_train), epochs=10,\n",
        "                    validation_data=((X_valid_A, X_valid_B), (y_valid, y_valid)))\n",
        "total_loss, main_loss, aux_loss = model.evaluate((X_test_A, X_test_B), (y_test, y_test))\n",
        "y_pred_main, y_pred_aux = model.predict((X_new_A, X_new_B))"
      ]
    },
    {
      "cell_type": "markdown",
      "metadata": {
        "id": "Au3CQg9_7fZV"
      },
      "source": [
        "# Saving and Restoring"
      ]
    },
    {
      "cell_type": "code",
      "execution_count": null,
      "metadata": {
        "id": "GXuQku7c7fZV"
      },
      "outputs": [],
      "source": [
        "np.random.seed(42)\n",
        "tf.random.set_seed(42)"
      ]
    },
    {
      "cell_type": "code",
      "execution_count": null,
      "metadata": {
        "id": "ltbcXnNL7fZV"
      },
      "outputs": [],
      "source": [
        "model = keras.models.Sequential([\n",
        "    keras.layers.Dense(30, activation=\"relu\", input_shape=[8]),\n",
        "    keras.layers.Dense(30, activation=\"relu\"),\n",
        "    keras.layers.Dense(1)\n",
        "])"
      ]
    },
    {
      "cell_type": "code",
      "execution_count": null,
      "metadata": {
        "id": "1xsbhNc07fZV",
        "outputId": "ea81eb2c-4692-48a5-ff10-90e7855c505c"
      },
      "outputs": [
        {
          "name": "stdout",
          "output_type": "stream",
          "text": [
            "Epoch 1/10\n",
            "363/363 [==============================] - 0s 882us/step - loss: 3.3697 - val_loss: 0.7126\n",
            "Epoch 2/10\n",
            "363/363 [==============================] - 0s 646us/step - loss: 0.6964 - val_loss: 0.6880\n",
            "Epoch 3/10\n",
            "363/363 [==============================] - 0s 658us/step - loss: 0.6167 - val_loss: 0.5803\n",
            "Epoch 4/10\n",
            "363/363 [==============================] - 0s 653us/step - loss: 0.5846 - val_loss: 0.5166\n",
            "Epoch 5/10\n",
            "363/363 [==============================] - 0s 649us/step - loss: 0.5321 - val_loss: 0.4895\n",
            "Epoch 6/10\n",
            "363/363 [==============================] - 0s 664us/step - loss: 0.5083 - val_loss: 0.4951\n",
            "Epoch 7/10\n",
            "363/363 [==============================] - 0s 677us/step - loss: 0.5044 - val_loss: 0.4861\n",
            "Epoch 8/10\n",
            "363/363 [==============================] - 0s 649us/step - loss: 0.4813 - val_loss: 0.4554\n",
            "Epoch 9/10\n",
            "363/363 [==============================] - 0s 676us/step - loss: 0.4627 - val_loss: 0.4413\n",
            "Epoch 10/10\n",
            "363/363 [==============================] - 0s 688us/step - loss: 0.4549 - val_loss: 0.4379\n",
            "162/162 [==============================] - 0s 497us/step - loss: 0.4382\n"
          ]
        }
      ],
      "source": [
        "model.compile(loss=\"mse\", optimizer=keras.optimizers.SGD(learning_rate=1e-3))\n",
        "history = model.fit(X_train, y_train, epochs=10, validation_data=(X_valid, y_valid))\n",
        "mse_test = model.evaluate(X_test, y_test)"
      ]
    },
    {
      "cell_type": "code",
      "execution_count": null,
      "metadata": {
        "id": "etRiGbd77fZV"
      },
      "outputs": [],
      "source": [
        "model.save(\"my_keras_model.h5\")"
      ]
    },
    {
      "cell_type": "code",
      "execution_count": null,
      "metadata": {
        "id": "y1Wm7HnX7fZW"
      },
      "outputs": [],
      "source": [
        "model = keras.models.load_model(\"my_keras_model.h5\")"
      ]
    },
    {
      "cell_type": "code",
      "execution_count": null,
      "metadata": {
        "id": "blHE3tEn7fZW",
        "outputId": "bd579c42-e6f3-4283-c22b-106a623e2158"
      },
      "outputs": [
        {
          "name": "stdout",
          "output_type": "stream",
          "text": [
            "WARNING:tensorflow:7 out of the last 8 calls to <function Model.make_predict_function.<locals>.predict_function at 0x7fd9725c28c0> triggered tf.function retracing. Tracing is expensive and the excessive number of tracings could be due to (1) creating @tf.function repeatedly in a loop, (2) passing tensors with different shapes, (3) passing Python objects instead of tensors. For (1), please define your @tf.function outside of the loop. For (2), @tf.function has experimental_relax_shapes=True option that relaxes argument shapes that can avoid unnecessary retracing. For (3), please refer to https://www.tensorflow.org/guide/function#controlling_retracing and https://www.tensorflow.org/api_docs/python/tf/function for  more details.\n"
          ]
        },
        {
          "data": {
            "text/plain": [
              "array([[0.5400236],\n",
              "       [1.6505969],\n",
              "       [3.0098243]], dtype=float32)"
            ]
          },
          "execution_count": 73,
          "metadata": {},
          "output_type": "execute_result"
        }
      ],
      "source": [
        "model.predict(X_new)"
      ]
    },
    {
      "cell_type": "code",
      "execution_count": null,
      "metadata": {
        "id": "426FgioS7fZW"
      },
      "outputs": [],
      "source": [
        "model.save_weights(\"my_keras_weights.ckpt\")"
      ]
    },
    {
      "cell_type": "code",
      "execution_count": null,
      "metadata": {
        "id": "3dj10rh37fZX",
        "outputId": "c644c878-ea19-472d-cd2e-3a7121750d75"
      },
      "outputs": [
        {
          "data": {
            "text/plain": [
              "<tensorflow.python.training.tracking.util.CheckpointLoadStatus at 0x7fd9890c2990>"
            ]
          },
          "execution_count": 75,
          "metadata": {},
          "output_type": "execute_result"
        }
      ],
      "source": [
        "model.load_weights(\"my_keras_weights.ckpt\")"
      ]
    },
    {
      "cell_type": "markdown",
      "metadata": {
        "id": "R011Xng17fZX"
      },
      "source": [
        "# Using Callbacks during Training"
      ]
    },
    {
      "cell_type": "code",
      "execution_count": null,
      "metadata": {
        "id": "CfTe47DL7fZX"
      },
      "outputs": [],
      "source": [
        "keras.backend.clear_session()\n",
        "np.random.seed(42)\n",
        "tf.random.set_seed(42)"
      ]
    },
    {
      "cell_type": "code",
      "execution_count": null,
      "metadata": {
        "id": "zbzsuM807fZX"
      },
      "outputs": [],
      "source": [
        "model = keras.models.Sequential([\n",
        "    keras.layers.Dense(30, activation=\"relu\", input_shape=[8]),\n",
        "    keras.layers.Dense(30, activation=\"relu\"),\n",
        "    keras.layers.Dense(1)\n",
        "])"
      ]
    },
    {
      "cell_type": "code",
      "execution_count": null,
      "metadata": {
        "id": "soi1hFsj7fZY",
        "outputId": "bd09f529-7c5e-4672-8982-032625baabb6"
      },
      "outputs": [
        {
          "name": "stdout",
          "output_type": "stream",
          "text": [
            "Epoch 1/10\n",
            "363/363 [==============================] - 0s 846us/step - loss: 3.3697 - val_loss: 0.7126\n",
            "Epoch 2/10\n",
            "363/363 [==============================] - 0s 672us/step - loss: 0.6964 - val_loss: 0.6880\n",
            "Epoch 3/10\n",
            "363/363 [==============================] - 0s 658us/step - loss: 0.6167 - val_loss: 0.5803\n",
            "Epoch 4/10\n",
            "363/363 [==============================] - 0s 651us/step - loss: 0.5846 - val_loss: 0.5166\n",
            "Epoch 5/10\n",
            "363/363 [==============================] - 0s 670us/step - loss: 0.5321 - val_loss: 0.4895\n",
            "Epoch 6/10\n",
            "363/363 [==============================] - 0s 658us/step - loss: 0.5083 - val_loss: 0.4951\n",
            "Epoch 7/10\n",
            "363/363 [==============================] - 0s 682us/step - loss: 0.5044 - val_loss: 0.4861\n",
            "Epoch 8/10\n",
            "363/363 [==============================] - 0s 657us/step - loss: 0.4813 - val_loss: 0.4554\n",
            "Epoch 9/10\n",
            "363/363 [==============================] - 0s 672us/step - loss: 0.4627 - val_loss: 0.4413\n",
            "Epoch 10/10\n",
            "363/363 [==============================] - 0s 655us/step - loss: 0.4549 - val_loss: 0.4379\n",
            "162/162 [==============================] - 0s 460us/step - loss: 0.4382\n"
          ]
        }
      ],
      "source": [
        "model.compile(loss=\"mse\", optimizer=keras.optimizers.SGD(learning_rate=1e-3))\n",
        "checkpoint_cb = keras.callbacks.ModelCheckpoint(\"my_keras_model.h5\", save_best_only=True)\n",
        "history = model.fit(X_train, y_train, epochs=10,\n",
        "                    validation_data=(X_valid, y_valid),\n",
        "                    callbacks=[checkpoint_cb])\n",
        "model = keras.models.load_model(\"my_keras_model.h5\") # rollback to best model\n",
        "mse_test = model.evaluate(X_test, y_test)"
      ]
    },
    {
      "cell_type": "code",
      "execution_count": null,
      "metadata": {
        "id": "1ux8YunI7fZY",
        "outputId": "0253c786-d156-45ce-d67c-dc560eb30bee"
      },
      "outputs": [
        {
          "name": "stdout",
          "output_type": "stream",
          "text": [
            "Epoch 1/100\n",
            "363/363 [==============================] - 0s 878us/step - loss: 0.4578 - val_loss: 0.4110\n",
            "Epoch 2/100\n",
            "363/363 [==============================] - 0s 702us/step - loss: 0.4430 - val_loss: 0.4266\n",
            "Epoch 3/100\n",
            "363/363 [==============================] - 0s 676us/step - loss: 0.4376 - val_loss: 0.3996\n",
            "Epoch 4/100\n",
            "363/363 [==============================] - 0s 671us/step - loss: 0.4361 - val_loss: 0.3939\n",
            "Epoch 5/100\n",
            "363/363 [==============================] - 0s 674us/step - loss: 0.4204 - val_loss: 0.3889\n",
            "Epoch 6/100\n",
            "363/363 [==============================] - 0s 672us/step - loss: 0.4112 - val_loss: 0.3866\n",
            "Epoch 7/100\n",
            "363/363 [==============================] - 0s 671us/step - loss: 0.4226 - val_loss: 0.3860\n",
            "Epoch 8/100\n",
            "363/363 [==============================] - 0s 659us/step - loss: 0.4135 - val_loss: 0.3793\n",
            "Epoch 9/100\n",
            "363/363 [==============================] - 0s 661us/step - loss: 0.4039 - val_loss: 0.3746\n",
            "Epoch 10/100\n",
            "363/363 [==============================] - 0s 655us/step - loss: 0.4023 - val_loss: 0.3723\n",
            "Epoch 11/100\n",
            "363/363 [==============================] - 0s 674us/step - loss: 0.3950 - val_loss: 0.3697\n",
            "Epoch 12/100\n",
            "363/363 [==============================] - 0s 652us/step - loss: 0.3912 - val_loss: 0.3669\n",
            "Epoch 13/100\n",
            "363/363 [==============================] - 0s 660us/step - loss: 0.3939 - val_loss: 0.3661\n",
            "Epoch 14/100\n",
            "363/363 [==============================] - 0s 648us/step - loss: 0.3868 - val_loss: 0.3631\n",
            "Epoch 15/100\n",
            "363/363 [==============================] - 0s 677us/step - loss: 0.3878 - val_loss: 0.3660\n",
            "Epoch 16/100\n",
            "363/363 [==============================] - 0s 651us/step - loss: 0.3935 - val_loss: 0.3625\n",
            "Epoch 17/100\n",
            "363/363 [==============================] - 0s 653us/step - loss: 0.3817 - val_loss: 0.3592\n",
            "Epoch 18/100\n",
            "<<123 more lines>>\n",
            "Epoch 80/100\n",
            "363/363 [==============================] - 0s 677us/step - loss: 0.3323 - val_loss: 0.3354\n",
            "Epoch 81/100\n",
            "363/363 [==============================] - 0s 677us/step - loss: 0.3297 - val_loss: 0.3274\n",
            "Epoch 82/100\n",
            "363/363 [==============================] - 0s 643us/step - loss: 0.3441 - val_loss: 0.3167\n",
            "Epoch 83/100\n",
            "363/363 [==============================] - 0s 699us/step - loss: 0.3369 - val_loss: 0.3280\n",
            "Epoch 84/100\n",
            "363/363 [==============================] - 0s 646us/step - loss: 0.3182 - val_loss: 0.3634\n",
            "Epoch 85/100\n",
            "363/363 [==============================] - 0s 682us/step - loss: 0.3235 - val_loss: 0.3176\n",
            "Epoch 86/100\n",
            "363/363 [==============================] - 0s 590us/step - loss: 0.3184 - val_loss: 0.3156\n",
            "Epoch 87/100\n",
            "363/363 [==============================] - 0s 677us/step - loss: 0.3395 - val_loss: 0.3529\n",
            "Epoch 88/100\n",
            "363/363 [==============================] - 0s 701us/step - loss: 0.3264 - val_loss: 0.3258\n",
            "Epoch 89/100\n",
            "363/363 [==============================] - 0s 710us/step - loss: 0.3210 - val_loss: 0.3630\n",
            "Epoch 90/100\n",
            "363/363 [==============================] - 0s 692us/step - loss: 0.3192 - val_loss: 0.3376\n",
            "Epoch 91/100\n",
            "363/363 [==============================] - 0s 704us/step - loss: 0.3237 - val_loss: 0.3211\n",
            "Epoch 92/100\n",
            "363/363 [==============================] - 0s 696us/step - loss: 0.3281 - val_loss: 0.3456\n",
            "Epoch 93/100\n",
            "363/363 [==============================] - 0s 696us/step - loss: 0.3424 - val_loss: 0.3158\n",
            "Epoch 94/100\n",
            "363/363 [==============================] - 0s 684us/step - loss: 0.3209 - val_loss: 0.3409\n",
            "Epoch 95/100\n",
            "363/363 [==============================] - 0s 676us/step - loss: 0.3230 - val_loss: 0.3379\n",
            "Epoch 96/100\n",
            "363/363 [==============================] - 0s 676us/step - loss: 0.3341 - val_loss: 0.3213\n",
            "162/162 [==============================] - 0s 440us/step - loss: 0.3310\n"
          ]
        }
      ],
      "source": [
        "model.compile(loss=\"mse\", optimizer=keras.optimizers.SGD(learning_rate=1e-3))\n",
        "early_stopping_cb = keras.callbacks.EarlyStopping(patience=10,\n",
        "                                                  restore_best_weights=True)\n",
        "history = model.fit(X_train, y_train, epochs=100,\n",
        "                    validation_data=(X_valid, y_valid),\n",
        "                    callbacks=[checkpoint_cb, early_stopping_cb])\n",
        "mse_test = model.evaluate(X_test, y_test)"
      ]
    },
    {
      "cell_type": "code",
      "execution_count": null,
      "metadata": {
        "id": "2mSUoSDm7fZY"
      },
      "outputs": [],
      "source": [
        "class PrintValTrainRatioCallback(keras.callbacks.Callback):\n",
        "    def on_epoch_end(self, epoch, logs):\n",
        "        print(\"\\nval/train: {:.2f}\".format(logs[\"val_loss\"] / logs[\"loss\"]))"
      ]
    },
    {
      "cell_type": "code",
      "execution_count": null,
      "metadata": {
        "id": "o9J4oPCk7fZZ",
        "outputId": "124cd4d1-c0d3-4595-c74a-e10c327dfc28"
      },
      "outputs": [
        {
          "name": "stdout",
          "output_type": "stream",
          "text": [
            "363/363 [==============================] - 0s 799us/step - loss: 0.3302 - val_loss: 0.3556\n",
            "\n",
            "val/train: 1.08\n"
          ]
        }
      ],
      "source": [
        "val_train_ratio_cb = PrintValTrainRatioCallback()\n",
        "history = model.fit(X_train, y_train, epochs=1,\n",
        "                    validation_data=(X_valid, y_valid),\n",
        "                    callbacks=[val_train_ratio_cb])"
      ]
    },
    {
      "cell_type": "markdown",
      "metadata": {
        "id": "qFgXrI6t7fZa"
      },
      "source": [
        "# TensorBoard"
      ]
    },
    {
      "cell_type": "code",
      "execution_count": null,
      "metadata": {
        "id": "q_vjBEuI7fZa"
      },
      "outputs": [],
      "source": [
        "root_logdir = os.path.join(os.curdir, \"my_logs\")"
      ]
    },
    {
      "cell_type": "code",
      "execution_count": null,
      "metadata": {
        "id": "6l29I_on7fZa",
        "outputId": "bfd4bf62-e626-465c-97d2-f08e7d5fe9d3"
      },
      "outputs": [
        {
          "data": {
            "text/plain": [
              "'./my_logs/run_2021_02_13-18_39_20'"
            ]
          },
          "execution_count": 83,
          "metadata": {},
          "output_type": "execute_result"
        }
      ],
      "source": [
        "def get_run_logdir():\n",
        "    import time\n",
        "    run_id = time.strftime(\"run_%Y_%m_%d-%H_%M_%S\")\n",
        "    return os.path.join(root_logdir, run_id)\n",
        "\n",
        "run_logdir = get_run_logdir()\n",
        "run_logdir"
      ]
    },
    {
      "cell_type": "code",
      "execution_count": null,
      "metadata": {
        "id": "Q_iRRYGC7fZb"
      },
      "outputs": [],
      "source": [
        "keras.backend.clear_session()\n",
        "np.random.seed(42)\n",
        "tf.random.set_seed(42)"
      ]
    },
    {
      "cell_type": "code",
      "execution_count": null,
      "metadata": {
        "id": "JDdqUHT17fZb"
      },
      "outputs": [],
      "source": [
        "model = keras.models.Sequential([\n",
        "    keras.layers.Dense(30, activation=\"relu\", input_shape=[8]),\n",
        "    keras.layers.Dense(30, activation=\"relu\"),\n",
        "    keras.layers.Dense(1)\n",
        "])\n",
        "model.compile(loss=\"mse\", optimizer=keras.optimizers.SGD(learning_rate=1e-3))"
      ]
    },
    {
      "cell_type": "code",
      "execution_count": null,
      "metadata": {
        "id": "YBm7yP2T7fZb",
        "outputId": "52cf632f-212d-45fb-8843-fa00de35d048"
      },
      "outputs": [
        {
          "name": "stdout",
          "output_type": "stream",
          "text": [
            "Epoch 1/30\n",
            "363/363 [==============================] - 1s 927us/step - loss: 3.3697 - val_loss: 0.7126\n",
            "Epoch 2/30\n",
            "363/363 [==============================] - 0s 695us/step - loss: 0.6964 - val_loss: 0.6880\n",
            "Epoch 3/30\n",
            "363/363 [==============================] - 0s 668us/step - loss: 0.6167 - val_loss: 0.5803\n",
            "Epoch 4/30\n",
            "363/363 [==============================] - 0s 672us/step - loss: 0.5846 - val_loss: 0.5166\n",
            "Epoch 5/30\n",
            "363/363 [==============================] - 0s 692us/step - loss: 0.5321 - val_loss: 0.4895\n",
            "Epoch 6/30\n",
            "363/363 [==============================] - 0s 755us/step - loss: 0.5083 - val_loss: 0.4951\n",
            "Epoch 7/30\n",
            "363/363 [==============================] - 0s 697us/step - loss: 0.5044 - val_loss: 0.4861\n",
            "Epoch 8/30\n",
            "363/363 [==============================] - 0s 668us/step - loss: 0.4813 - val_loss: 0.4554\n",
            "Epoch 9/30\n",
            "363/363 [==============================] - 0s 681us/step - loss: 0.4627 - val_loss: 0.4413\n",
            "Epoch 10/30\n",
            "363/363 [==============================] - 0s 701us/step - loss: 0.4549 - val_loss: 0.4379\n",
            "Epoch 11/30\n",
            "363/363 [==============================] - 0s 696us/step - loss: 0.4416 - val_loss: 0.4396\n",
            "Epoch 12/30\n",
            "363/363 [==============================] - 0s 692us/step - loss: 0.4295 - val_loss: 0.4507\n",
            "Epoch 13/30\n",
            "363/363 [==============================] - 0s 703us/step - loss: 0.4326 - val_loss: 0.3997\n",
            "Epoch 14/30\n",
            "363/363 [==============================] - 0s 703us/step - loss: 0.4207 - val_loss: 0.3956\n",
            "Epoch 15/30\n",
            "363/363 [==============================] - 0s 698us/step - loss: 0.4198 - val_loss: 0.3916\n",
            "Epoch 16/30\n",
            "363/363 [==============================] - 0s 695us/step - loss: 0.4248 - val_loss: 0.3937\n",
            "Epoch 17/30\n",
            "363/363 [==============================] - 0s 699us/step - loss: 0.4105 - val_loss: 0.3809\n",
            "Epoch 18/30\n",
            "363/363 [==============================] - 0s 697us/step - loss: 0.4070 - val_loss: 0.3793\n",
            "Epoch 19/30\n",
            "363/363 [==============================] - 0s 674us/step - loss: 0.3902 - val_loss: 0.3850\n",
            "Epoch 20/30\n",
            "363/363 [==============================] - 0s 680us/step - loss: 0.3864 - val_loss: 0.3809\n",
            "Epoch 21/30\n",
            "363/363 [==============================] - 0s 693us/step - loss: 0.3978 - val_loss: 0.3701\n",
            "Epoch 22/30\n",
            "363/363 [==============================] - 0s 694us/step - loss: 0.3816 - val_loss: 0.3781\n",
            "Epoch 23/30\n",
            "363/363 [==============================] - 0s 680us/step - loss: 0.4042 - val_loss: 0.3650\n",
            "Epoch 24/30\n",
            "363/363 [==============================] - 0s 630us/step - loss: 0.3823 - val_loss: 0.3655\n",
            "Epoch 25/30\n",
            "363/363 [==============================] - 0s 699us/step - loss: 0.3792 - val_loss: 0.3611\n",
            "Epoch 26/30\n",
            "363/363 [==============================] - 0s 684us/step - loss: 0.3800 - val_loss: 0.3626\n",
            "Epoch 27/30\n",
            "363/363 [==============================] - 0s 686us/step - loss: 0.3858 - val_loss: 0.3564\n",
            "Epoch 28/30\n",
            "363/363 [==============================] - 0s 690us/step - loss: 0.3839 - val_loss: 0.3579\n",
            "Epoch 29/30\n",
            "363/363 [==============================] - 0s 695us/step - loss: 0.3736 - val_loss: 0.3561\n",
            "Epoch 30/30\n",
            "363/363 [==============================] - 0s 684us/step - loss: 0.3843 - val_loss: 0.3548\n"
          ]
        }
      ],
      "source": [
        "tensorboard_cb = keras.callbacks.TensorBoard(run_logdir)\n",
        "history = model.fit(X_train, y_train, epochs=30,\n",
        "                    validation_data=(X_valid, y_valid),\n",
        "                    callbacks=[checkpoint_cb, tensorboard_cb])"
      ]
    },
    {
      "cell_type": "markdown",
      "metadata": {
        "id": "40YjIcVf7fZb"
      },
      "source": [
        "To start the TensorBoard server, one option is to open a terminal, if needed activate the virtualenv where you installed TensorBoard, go to this notebook's directory, then type:\n",
        "\n",
        "```bash\n",
        "$ tensorboard --logdir=./my_logs --port=6006\n",
        "```\n",
        "\n",
        "You can then open your web browser to [localhost:6006](http://localhost:6006) and use TensorBoard. Once you are done, press Ctrl-C in the terminal window, this will shutdown the TensorBoard server.\n",
        "\n",
        "Alternatively, you can load TensorBoard's Jupyter extension and run it like this:"
      ]
    },
    {
      "cell_type": "code",
      "execution_count": null,
      "metadata": {
        "id": "idEqibtp7fZc",
        "outputId": "e39efc1b-e09d-4004-d074-2f3a16f7d258"
      },
      "outputs": [
        {
          "data": {
            "text/html": [
              "\n",
              "      <iframe id=\"tensorboard-frame-96b788e8a876699a\" width=\"100%\" height=\"800\" frameborder=\"0\">\n",
              "      </iframe>\n",
              "      <script>\n",
              "        (function() {\n",
              "          const frame = document.getElementById(\"tensorboard-frame-96b788e8a876699a\");\n",
              "          const url = new URL(\"/\", window.location);\n",
              "          const port = 6006;\n",
              "          if (port) {\n",
              "            url.port = port;\n",
              "          }\n",
              "          frame.src = url;\n",
              "        })();\n",
              "      </script>\n",
              "    "
            ],
            "text/plain": [
              "<IPython.core.display.HTML object>"
            ]
          },
          "metadata": {},
          "output_type": "display_data"
        }
      ],
      "source": [
        "%load_ext tensorboard\n",
        "%tensorboard --logdir=./my_logs --port=6006"
      ]
    },
    {
      "cell_type": "code",
      "execution_count": null,
      "metadata": {
        "id": "wnpSQSuj7fZc",
        "outputId": "905238c3-993e-43bd-9521-04bcf0202449"
      },
      "outputs": [
        {
          "data": {
            "text/plain": [
              "'./my_logs/run_2021_02_13-18_39_31'"
            ]
          },
          "execution_count": 88,
          "metadata": {},
          "output_type": "execute_result"
        }
      ],
      "source": [
        "run_logdir2 = get_run_logdir()\n",
        "run_logdir2"
      ]
    },
    {
      "cell_type": "code",
      "execution_count": null,
      "metadata": {
        "id": "QlZzl6RD7fZe"
      },
      "outputs": [],
      "source": [
        "keras.backend.clear_session()\n",
        "np.random.seed(42)\n",
        "tf.random.set_seed(42)"
      ]
    },
    {
      "cell_type": "code",
      "execution_count": null,
      "metadata": {
        "id": "R3gPwV0X7fZe"
      },
      "outputs": [],
      "source": [
        "model = keras.models.Sequential([\n",
        "    keras.layers.Dense(30, activation=\"relu\", input_shape=[8]),\n",
        "    keras.layers.Dense(30, activation=\"relu\"),\n",
        "    keras.layers.Dense(1)\n",
        "])\n",
        "model.compile(loss=\"mse\", optimizer=keras.optimizers.SGD(learning_rate=0.05))"
      ]
    },
    {
      "cell_type": "code",
      "execution_count": null,
      "metadata": {
        "id": "Ni-6Supj7fZe",
        "outputId": "4973512a-068a-4687-8e49-af5cf7b3b1d3"
      },
      "outputs": [
        {
          "name": "stdout",
          "output_type": "stream",
          "text": [
            "Epoch 1/30\n",
            "363/363 [==============================] - 1s 1ms/step - loss: 0.7645 - val_loss: 302.8536\n",
            "Epoch 2/30\n",
            "363/363 [==============================] - 0s 713us/step - loss: 8159520618.2209 - val_loss: 1.3230\n",
            "Epoch 3/30\n",
            "363/363 [==============================] - 0s 735us/step - loss: 1.3439 - val_loss: 1.3176\n",
            "Epoch 4/30\n",
            "363/363 [==============================] - 0s 738us/step - loss: 1.3546 - val_loss: 1.3261\n",
            "Epoch 5/30\n",
            "363/363 [==============================] - 0s 712us/step - loss: 1.3513 - val_loss: 1.3154\n",
            "Epoch 6/30\n",
            "363/363 [==============================] - 0s 724us/step - loss: 1.3274 - val_loss: 1.3203\n",
            "Epoch 7/30\n",
            "363/363 [==============================] - 0s 693us/step - loss: 1.3639 - val_loss: 1.3149\n",
            "Epoch 8/30\n",
            "363/363 [==============================] - 0s 709us/step - loss: 1.3487 - val_loss: 1.3157\n",
            "Epoch 9/30\n",
            "363/363 [==============================] - 0s 681us/step - loss: 1.3445 - val_loss: 1.3150\n",
            "Epoch 10/30\n",
            "363/363 [==============================] - 0s 681us/step - loss: 1.3697 - val_loss: 1.3172\n",
            "Epoch 11/30\n",
            "363/363 [==============================] - 0s 687us/step - loss: 1.3622 - val_loss: 1.3174\n",
            "Epoch 12/30\n",
            "363/363 [==============================] - 0s 693us/step - loss: 1.3389 - val_loss: 1.3150\n",
            "Epoch 13/30\n",
            "363/363 [==============================] - 0s 668us/step - loss: 1.3336 - val_loss: 1.3270\n",
            "Epoch 14/30\n",
            "363/363 [==============================] - 0s 673us/step - loss: 1.3429 - val_loss: 1.3195\n",
            "Epoch 15/30\n",
            "363/363 [==============================] - 0s 679us/step - loss: 1.3275 - val_loss: 1.3157\n",
            "Epoch 16/30\n",
            "363/363 [==============================] - 0s 701us/step - loss: 1.3669 - val_loss: 1.3182\n",
            "Epoch 17/30\n",
            "363/363 [==============================] - 0s 692us/step - loss: 1.3645 - val_loss: 1.3223\n",
            "Epoch 18/30\n",
            "363/363 [==============================] - 0s 691us/step - loss: 1.3839 - val_loss: 1.3154\n",
            "Epoch 19/30\n",
            "363/363 [==============================] - 0s 680us/step - loss: 1.3078 - val_loss: 1.3168\n",
            "Epoch 20/30\n",
            "363/363 [==============================] - 0s 663us/step - loss: 1.3215 - val_loss: 1.3151\n",
            "Epoch 21/30\n",
            "363/363 [==============================] - 0s 723us/step - loss: 1.3344 - val_loss: 1.3174\n",
            "Epoch 22/30\n",
            "363/363 [==============================] - 0s 674us/step - loss: 1.3269 - val_loss: 1.3204\n",
            "Epoch 23/30\n",
            "363/363 [==============================] - 0s 700us/step - loss: 1.3590 - val_loss: 1.3164\n",
            "Epoch 24/30\n",
            "363/363 [==============================] - 0s 687us/step - loss: 1.3381 - val_loss: 1.3157\n",
            "Epoch 25/30\n",
            "363/363 [==============================] - 0s 687us/step - loss: 1.3265 - val_loss: 1.3180\n",
            "Epoch 26/30\n",
            "363/363 [==============================] - 0s 704us/step - loss: 1.3532 - val_loss: 1.3195\n",
            "Epoch 27/30\n",
            "363/363 [==============================] - 0s 715us/step - loss: 1.3552 - val_loss: 1.3157\n",
            "Epoch 28/30\n",
            "363/363 [==============================] - 0s 698us/step - loss: 1.3447 - val_loss: 1.3222\n",
            "Epoch 29/30\n",
            "363/363 [==============================] - 0s 713us/step - loss: 1.3379 - val_loss: 1.3267\n",
            "Epoch 30/30\n",
            "363/363 [==============================] - 0s 698us/step - loss: 1.3583 - val_loss: 1.3174\n"
          ]
        }
      ],
      "source": [
        "tensorboard_cb = keras.callbacks.TensorBoard(run_logdir2)\n",
        "history = model.fit(X_train, y_train, epochs=30,\n",
        "                    validation_data=(X_valid, y_valid),\n",
        "                    callbacks=[checkpoint_cb, tensorboard_cb])"
      ]
    },
    {
      "cell_type": "markdown",
      "metadata": {
        "id": "dKCRo2go7fZf"
      },
      "source": [
        "Notice how TensorBoard now sees two runs, and you can compare the learning curves."
      ]
    },
    {
      "cell_type": "markdown",
      "metadata": {
        "id": "cS1hrm797fZg"
      },
      "source": [
        "Check out the other available logging options:"
      ]
    },
    {
      "cell_type": "code",
      "execution_count": null,
      "metadata": {
        "id": "GyjdDqBo7fZg",
        "outputId": "2d91cf96-853b-46cd-9311-9ad6bea264c0"
      },
      "outputs": [
        {
          "name": "stdout",
          "output_type": "stream",
          "text": [
            "Help on function __init__ in module tensorflow.python.keras.callbacks:\n",
            "\n",
            "__init__(self, log_dir='logs', histogram_freq=0, write_graph=True, write_images=False, update_freq='epoch', profile_batch=2, embeddings_freq=0, embeddings_metadata=None, **kwargs)\n",
            "    Initialize self.  See help(type(self)) for accurate signature.\n",
            "\n"
          ]
        }
      ],
      "source": [
        "help(keras.callbacks.TensorBoard.__init__)"
      ]
    },
    {
      "cell_type": "markdown",
      "metadata": {
        "id": "OXehV_0D7fZg"
      },
      "source": [
        "# Hyperparameter Tuning"
      ]
    },
    {
      "cell_type": "code",
      "execution_count": null,
      "metadata": {
        "id": "-dTCMuU17fZg"
      },
      "outputs": [],
      "source": [
        "keras.backend.clear_session()\n",
        "np.random.seed(42)\n",
        "tf.random.set_seed(42)"
      ]
    },
    {
      "cell_type": "code",
      "execution_count": null,
      "metadata": {
        "id": "ODtUrU2K7fZh"
      },
      "outputs": [],
      "source": [
        "def build_model(n_hidden=1, n_neurons=30, learning_rate=3e-3, input_shape=[8]):\n",
        "    model = keras.models.Sequential()\n",
        "    model.add(keras.layers.InputLayer(input_shape=input_shape))\n",
        "    for layer in range(n_hidden):\n",
        "        model.add(keras.layers.Dense(n_neurons, activation=\"relu\"))\n",
        "    model.add(keras.layers.Dense(1))\n",
        "    optimizer = keras.optimizers.SGD(learning_rate=learning_rate)\n",
        "    model.compile(loss=\"mse\", optimizer=optimizer)\n",
        "    return model"
      ]
    },
    {
      "cell_type": "code",
      "execution_count": null,
      "metadata": {
        "id": "YglumBrt7fZh"
      },
      "outputs": [],
      "source": [
        "keras_reg = keras.wrappers.scikit_learn.KerasRegressor(build_model)"
      ]
    },
    {
      "cell_type": "code",
      "execution_count": null,
      "metadata": {
        "id": "cAxltC647fZh",
        "outputId": "13a85161-0812-4677-f90e-cdcb4385a0d4"
      },
      "outputs": [
        {
          "name": "stdout",
          "output_type": "stream",
          "text": [
            "Epoch 1/100\n",
            "363/363 [==============================] - 0s 905us/step - loss: 1.5673 - val_loss: 20.7721\n",
            "Epoch 2/100\n",
            "363/363 [==============================] - 0s 665us/step - loss: 1.3216 - val_loss: 5.0266\n",
            "Epoch 3/100\n",
            "363/363 [==============================] - 0s 671us/step - loss: 0.5972 - val_loss: 0.5490\n",
            "Epoch 4/100\n",
            "363/363 [==============================] - 0s 661us/step - loss: 0.4985 - val_loss: 0.4529\n",
            "Epoch 5/100\n",
            "363/363 [==============================] - 0s 687us/step - loss: 0.4608 - val_loss: 0.4188\n",
            "Epoch 6/100\n",
            "363/363 [==============================] - 0s 678us/step - loss: 0.4410 - val_loss: 0.4129\n",
            "Epoch 7/100\n",
            "363/363 [==============================] - 0s 676us/step - loss: 0.4463 - val_loss: 0.4004\n",
            "Epoch 8/100\n",
            "363/363 [==============================] - 0s 686us/step - loss: 0.4283 - val_loss: 0.3944\n",
            "Epoch 9/100\n",
            "363/363 [==============================] - 0s 660us/step - loss: 0.4139 - val_loss: 0.3961\n",
            "Epoch 10/100\n",
            "363/363 [==============================] - 0s 681us/step - loss: 0.4107 - val_loss: 0.4071\n",
            "Epoch 11/100\n",
            "363/363 [==============================] - 0s 655us/step - loss: 0.3992 - val_loss: 0.3855\n",
            "Epoch 12/100\n",
            "363/363 [==============================] - 0s 627us/step - loss: 0.3982 - val_loss: 0.4136\n",
            "Epoch 13/100\n",
            "363/363 [==============================] - 0s 692us/step - loss: 0.3983 - val_loss: 0.3997\n",
            "Epoch 14/100\n",
            "363/363 [==============================] - 0s 675us/step - loss: 0.3910 - val_loss: 0.3818\n",
            "Epoch 15/100\n",
            "363/363 [==============================] - 0s 592us/step - loss: 0.3948 - val_loss: 0.3829\n",
            "Epoch 16/100\n",
            "363/363 [==============================] - 0s 686us/step - loss: 0.3981 - val_loss: 0.3739\n",
            "Epoch 17/100\n",
            "363/363 [==============================] - 0s 674us/step - loss: 0.3821 - val_loss: 0.4022\n",
            "Epoch 18/100\n",
            "<<130 more lines>>\n",
            "363/363 [==============================] - 0s 627us/step - loss: 0.3441 - val_loss: 0.3342\n",
            "Epoch 84/100\n",
            "363/363 [==============================] - 0s 640us/step - loss: 0.3240 - val_loss: 0.4136\n",
            "Epoch 85/100\n",
            "363/363 [==============================] - 0s 656us/step - loss: 0.3303 - val_loss: 0.3285\n",
            "Epoch 86/100\n",
            "363/363 [==============================] - 0s 671us/step - loss: 0.3263 - val_loss: 0.3440\n",
            "Epoch 87/100\n",
            "363/363 [==============================] - 0s 672us/step - loss: 0.3483 - val_loss: 0.3733\n",
            "Epoch 88/100\n",
            "363/363 [==============================] - 0s 649us/step - loss: 0.3305 - val_loss: 0.3188\n",
            "Epoch 89/100\n",
            "363/363 [==============================] - 0s 578us/step - loss: 0.3283 - val_loss: 0.3492\n",
            "Epoch 90/100\n",
            "363/363 [==============================] - 0s 665us/step - loss: 0.3243 - val_loss: 0.3175\n",
            "Epoch 91/100\n",
            "363/363 [==============================] - 0s 664us/step - loss: 0.3288 - val_loss: 0.3594\n",
            "Epoch 92/100\n",
            "363/363 [==============================] - 0s 675us/step - loss: 0.3343 - val_loss: 0.3169\n",
            "Epoch 93/100\n",
            "363/363 [==============================] - 0s 666us/step - loss: 0.3485 - val_loss: 0.3607\n",
            "Epoch 94/100\n",
            "363/363 [==============================] - 0s 659us/step - loss: 0.3262 - val_loss: 0.5184\n",
            "Epoch 95/100\n",
            "363/363 [==============================] - 0s 677us/step - loss: 0.3284 - val_loss: 0.7536\n",
            "Epoch 96/100\n",
            "363/363 [==============================] - 0s 674us/step - loss: 0.3494 - val_loss: 0.5075\n",
            "Epoch 97/100\n",
            "363/363 [==============================] - 0s 628us/step - loss: 0.3290 - val_loss: 0.8087\n",
            "Epoch 98/100\n",
            "363/363 [==============================] - 0s 624us/step - loss: 0.3277 - val_loss: 1.0447\n",
            "Epoch 99/100\n",
            "363/363 [==============================] - 0s 683us/step - loss: 0.3199 - val_loss: 1.6881\n",
            "Epoch 100/100\n",
            "363/363 [==============================] - 0s 671us/step - loss: 0.3706 - val_loss: 1.9265\n"
          ]
        },
        {
          "data": {
            "text/plain": [
              "<tensorflow.python.keras.callbacks.History at 0x7fd97a00df90>"
            ]
          },
          "execution_count": 96,
          "metadata": {},
          "output_type": "execute_result"
        }
      ],
      "source": [
        "keras_reg.fit(X_train, y_train, epochs=100,\n",
        "              validation_data=(X_valid, y_valid),\n",
        "              callbacks=[keras.callbacks.EarlyStopping(patience=10)])"
      ]
    },
    {
      "cell_type": "code",
      "execution_count": null,
      "metadata": {
        "id": "RjhC00Q77fZh",
        "outputId": "3dd01549-dc72-4817-8493-a7c976ae969d"
      },
      "outputs": [
        {
          "name": "stdout",
          "output_type": "stream",
          "text": [
            "162/162 [==============================] - 0s 417us/step - loss: 0.3409\n"
          ]
        }
      ],
      "source": [
        "mse_test = keras_reg.score(X_test, y_test)"
      ]
    },
    {
      "cell_type": "code",
      "execution_count": null,
      "metadata": {
        "id": "kfysbTv67fZh",
        "outputId": "e246248c-fa79-4d81-f6bf-a487b67552aa"
      },
      "outputs": [
        {
          "name": "stdout",
          "output_type": "stream",
          "text": [
            "WARNING:tensorflow:8 out of the last 9 calls to <function Model.make_predict_function.<locals>.predict_function at 0x7fd98963b7a0> triggered tf.function retracing. Tracing is expensive and the excessive number of tracings could be due to (1) creating @tf.function repeatedly in a loop, (2) passing tensors with different shapes, (3) passing Python objects instead of tensors. For (1), please define your @tf.function outside of the loop. For (2), @tf.function has experimental_relax_shapes=True option that relaxes argument shapes that can avoid unnecessary retracing. For (3), please refer to https://www.tensorflow.org/guide/function#controlling_retracing and https://www.tensorflow.org/api_docs/python/tf/function for  more details.\n"
          ]
        }
      ],
      "source": [
        "y_pred = keras_reg.predict(X_new)"
      ]
    },
    {
      "cell_type": "code",
      "execution_count": null,
      "metadata": {
        "id": "uBefDXcc7fZi"
      },
      "outputs": [],
      "source": [
        "np.random.seed(42)\n",
        "tf.random.set_seed(42)"
      ]
    },
    {
      "cell_type": "markdown",
      "metadata": {
        "id": "bAtTlB2w7fZi"
      },
      "source": [
        "**Warning**: the following cell crashes at the end of training. This seems to be caused by [Keras issue #13586](https://github.com/keras-team/keras/issues/13586), which was triggered by a recent change in Scikit-Learn. [Pull Request #13598](https://github.com/keras-team/keras/pull/13598) seems to fix the issue, so this problem should be resolved soon. In the meantime, I've added `.tolist()` and `.rvs(1000).tolist()` as workarounds."
      ]
    },
    {
      "cell_type": "code",
      "execution_count": null,
      "metadata": {
        "id": "S3KcKESF7fZi",
        "outputId": "dbec7e24-ddd8-4e97-f440-cdff26f993b9"
      },
      "outputs": [
        {
          "name": "stdout",
          "output_type": "stream",
          "text": [
            "Fitting 3 folds for each of 10 candidates, totalling 30 fits\n",
            "Epoch 1/100\n",
            "242/242 [==============================] - 0s 1ms/step - loss: 1.3827 - val_loss: 0.4703\n",
            "Epoch 2/100\n",
            "242/242 [==============================] - 0s 757us/step - loss: 0.4880 - val_loss: 0.4247\n",
            "Epoch 3/100\n",
            "242/242 [==============================] - 0s 765us/step - loss: 0.4541 - val_loss: 0.4052\n",
            "Epoch 4/100\n",
            "242/242 [==============================] - 0s 745us/step - loss: 0.4518 - val_loss: 0.3975\n",
            "Epoch 5/100\n",
            "242/242 [==============================] - 0s 765us/step - loss: 0.4337 - val_loss: 0.3991\n",
            "Epoch 6/100\n",
            "242/242 [==============================] - 0s 751us/step - loss: 0.4263 - val_loss: 0.4031\n",
            "Epoch 7/100\n",
            "242/242 [==============================] - 0s 743us/step - loss: 0.4385 - val_loss: 0.4043\n",
            "Epoch 8/100\n",
            "242/242 [==============================] - 0s 780us/step - loss: 0.4301 - val_loss: 0.3929\n",
            "Epoch 9/100\n",
            "242/242 [==============================] - 0s 792us/step - loss: 0.4108 - val_loss: 0.4040\n",
            "Epoch 10/100\n",
            "242/242 [==============================] - 0s 764us/step - loss: 0.4200 - val_loss: 0.3886\n",
            "Epoch 11/100\n",
            "242/242 [==============================] - 0s 745us/step - loss: 0.4099 - val_loss: 0.3999\n",
            "Epoch 12/100\n",
            "242/242 [==============================] - 0s 740us/step - loss: 0.3897 - val_loss: 0.4085\n",
            "Epoch 13/100\n",
            "242/242 [==============================] - 0s 765us/step - loss: 0.4265 - val_loss: 0.3922\n",
            "Epoch 14/100\n",
            "242/242 [==============================] - 0s 752us/step - loss: 0.4108 - val_loss: 0.3918\n",
            "Epoch 15/100\n",
            "242/242 [==============================] - 0s 731us/step - loss: 0.4070 - val_loss: 0.3886\n",
            "Epoch 16/100\n",
            "242/242 [==============================] - 0s 737us/step - loss: 0.4032 - val_loss: 0.3933\n",
            "Epoch 17/100\n",
            "242/242 [==============================] - 0s 774us/step - loss: 0.4212 - val_loss: 0.3907\n",
            "<<2367 more lines>>\n",
            "363/363 [==============================] - 0s 622us/step - loss: 0.3312 - val_loss: 0.5455\n",
            "Epoch 12/100\n",
            "363/363 [==============================] - 0s 727us/step - loss: 0.3456 - val_loss: 0.6470\n",
            "Epoch 13/100\n",
            "363/363 [==============================] - 0s 742us/step - loss: 0.3320 - val_loss: 0.3109\n",
            "Epoch 14/100\n",
            "363/363 [==============================] - 0s 697us/step - loss: 0.3259 - val_loss: 0.3198\n",
            "Epoch 15/100\n",
            "363/363 [==============================] - 0s 662us/step - loss: 0.3222 - val_loss: 0.3065\n",
            "Epoch 16/100\n",
            "363/363 [==============================] - 0s 748us/step - loss: 0.3277 - val_loss: 0.3252\n",
            "Epoch 17/100\n",
            "363/363 [==============================] - 0s 724us/step - loss: 0.3095 - val_loss: 0.3965\n",
            "Epoch 18/100\n",
            "363/363 [==============================] - 0s 703us/step - loss: 0.3107 - val_loss: 0.2997\n",
            "Epoch 19/100\n",
            "363/363 [==============================] - 0s 706us/step - loss: 0.3060 - val_loss: 0.3079\n",
            "Epoch 20/100\n",
            "363/363 [==============================] - 0s 704us/step - loss: 0.3003 - val_loss: 0.4544\n",
            "Epoch 21/100\n",
            "363/363 [==============================] - 0s 698us/step - loss: 0.3090 - val_loss: 0.3274\n",
            "Epoch 22/100\n",
            "363/363 [==============================] - 0s 709us/step - loss: 0.2949 - val_loss: 0.5018\n",
            "Epoch 23/100\n",
            "363/363 [==============================] - 0s 715us/step - loss: 0.3126 - val_loss: 0.5565\n",
            "Epoch 24/100\n",
            "363/363 [==============================] - 0s 702us/step - loss: 0.3031 - val_loss: 0.5390\n",
            "Epoch 25/100\n",
            "363/363 [==============================] - 0s 698us/step - loss: 0.2992 - val_loss: 0.3339\n",
            "Epoch 26/100\n",
            "363/363 [==============================] - 0s 719us/step - loss: 0.2988 - val_loss: 0.5095\n",
            "Epoch 27/100\n",
            "363/363 [==============================] - 0s 716us/step - loss: 0.3001 - val_loss: 0.6597\n",
            "Epoch 28/100\n",
            "363/363 [==============================] - 0s 721us/step - loss: 0.3058 - val_loss: 0.5106\n"
          ]
        },
        {
          "data": {
            "text/plain": [
              "RandomizedSearchCV(cv=3,\n",
              "                   estimator=<tensorflow.python.keras.wrappers.scikit_learn.KerasRegressor object at 0x7fd939643c10>,\n",
              "                   param_distributions={'learning_rate': [0.001683454924600351,\n",
              "                                                          0.02390836445593178,\n",
              "                                                          0.008731907739399206,\n",
              "                                                          0.004725396149933917,\n",
              "                                                          0.0006154014789262348,\n",
              "                                                          0.0006153331256530192,\n",
              "                                                          0.0003920021771415983,\n",
              "                                                          0.01619845322936229,\n",
              "                                                          0.004779156784872302,\n",
              "                                                          0.0...\n",
              "                                                          0.005021425736625637,\n",
              "                                                          0.0005703073595961105,\n",
              "                                                          0.001151888789941251,\n",
              "                                                          0.001621231156394198,\n",
              "                                                          0.0024505367684280487,\n",
              "                                                          0.011155092541719619,\n",
              "                                                          0.0007524347058135697,\n",
              "                                                          0.0032032448128444043,\n",
              "                                                          0.004591455636549438,\n",
              "                                                          0.0003715541189658278, ...],\n",
              "                                        'n_hidden': [0, 1, 2, 3],\n",
              "                                        'n_neurons': [1, 2, 3, 4, 5, 6, 7, 8, 9,\n",
              "                                                      10, 11, 12, 13, 14, 15,\n",
              "                                                      16, 17, 18, 19, 20, 21,\n",
              "                                                      22, 23, 24, 25, 26, 27,\n",
              "                                                      28, 29, 30, ...]},\n",
              "                   verbose=2)"
            ]
          },
          "execution_count": 100,
          "metadata": {},
          "output_type": "execute_result"
        }
      ],
      "source": [
        "from scipy.stats import reciprocal\n",
        "from sklearn.model_selection import RandomizedSearchCV\n",
        "\n",
        "param_distribs = {\n",
        "    \"n_hidden\": [0, 1, 2, 3],\n",
        "    \"n_neurons\": np.arange(1, 100)               .tolist(),\n",
        "    \"learning_rate\": reciprocal(3e-4, 3e-2)      .rvs(1000).tolist(),\n",
        "}\n",
        "\n",
        "rnd_search_cv = RandomizedSearchCV(keras_reg, param_distribs, n_iter=10, cv=3, verbose=2)\n",
        "rnd_search_cv.fit(X_train, y_train, epochs=100,\n",
        "                  validation_data=(X_valid, y_valid),\n",
        "                  callbacks=[keras.callbacks.EarlyStopping(patience=10)])"
      ]
    },
    {
      "cell_type": "code",
      "execution_count": null,
      "metadata": {
        "id": "RRyeIoY97fZi",
        "outputId": "c3d6d898-b77f-4fa0-f40f-1e644ff78b6c"
      },
      "outputs": [
        {
          "data": {
            "text/plain": [
              "{'n_neurons': 74, 'n_hidden': 3, 'learning_rate': 0.005803602934201024}"
            ]
          },
          "execution_count": 101,
          "metadata": {},
          "output_type": "execute_result"
        }
      ],
      "source": [
        "rnd_search_cv.best_params_"
      ]
    },
    {
      "cell_type": "code",
      "execution_count": null,
      "metadata": {
        "id": "UiHQREgo7fZi",
        "outputId": "0889b0d2-12a0-4f00-c59f-215f366000e6"
      },
      "outputs": [
        {
          "data": {
            "text/plain": [
              "-0.32039451599121094"
            ]
          },
          "execution_count": 102,
          "metadata": {},
          "output_type": "execute_result"
        }
      ],
      "source": [
        "rnd_search_cv.best_score_"
      ]
    },
    {
      "cell_type": "code",
      "execution_count": null,
      "metadata": {
        "id": "IhvViqu-7fZj",
        "outputId": "110ee9a6-5040-4d35-f7a7-fb0e9280b114"
      },
      "outputs": [
        {
          "data": {
            "text/plain": [
              "<tensorflow.python.keras.wrappers.scikit_learn.KerasRegressor at 0x7fd972969310>"
            ]
          },
          "execution_count": 103,
          "metadata": {},
          "output_type": "execute_result"
        }
      ],
      "source": [
        "rnd_search_cv.best_estimator_"
      ]
    },
    {
      "cell_type": "code",
      "execution_count": null,
      "metadata": {
        "id": "9px-XdA47fZj",
        "outputId": "d8371894-1f33-4674-e5f9-ef443c3164b1"
      },
      "outputs": [
        {
          "name": "stdout",
          "output_type": "stream",
          "text": [
            "162/162 [==============================] - 0s 436us/step - loss: 0.3029\n"
          ]
        },
        {
          "data": {
            "text/plain": [
              "-0.3028871417045593"
            ]
          },
          "execution_count": 104,
          "metadata": {},
          "output_type": "execute_result"
        }
      ],
      "source": [
        "rnd_search_cv.score(X_test, y_test)"
      ]
    },
    {
      "cell_type": "code",
      "execution_count": null,
      "metadata": {
        "id": "AhCdxsLS7fZj",
        "outputId": "595e64c5-dbe0-40f6-fc29-d25a224e06d9"
      },
      "outputs": [
        {
          "data": {
            "text/plain": [
              "<tensorflow.python.keras.engine.sequential.Sequential at 0x7fd988eafa10>"
            ]
          },
          "execution_count": 105,
          "metadata": {},
          "output_type": "execute_result"
        }
      ],
      "source": [
        "model = rnd_search_cv.best_estimator_.model\n",
        "model"
      ]
    },
    {
      "cell_type": "code",
      "execution_count": null,
      "metadata": {
        "scrolled": true,
        "id": "jAlvClS27fZj",
        "outputId": "5bb1c787-18ca-429f-c9ce-b0fd85d6f87c"
      },
      "outputs": [
        {
          "name": "stdout",
          "output_type": "stream",
          "text": [
            "162/162 [==============================] - 0s 446us/step - loss: 0.3029\n"
          ]
        },
        {
          "data": {
            "text/plain": [
              "0.3028871417045593"
            ]
          },
          "execution_count": 106,
          "metadata": {},
          "output_type": "execute_result"
        }
      ],
      "source": [
        "model.evaluate(X_test, y_test)"
      ]
    },
    {
      "cell_type": "markdown",
      "metadata": {
        "id": "XaWMof397fZj"
      },
      "source": [
        "# Exercise solutions"
      ]
    },
    {
      "cell_type": "markdown",
      "metadata": {
        "id": "q1k5st_M7fZj"
      },
      "source": [
        "## 1. to 9."
      ]
    },
    {
      "cell_type": "markdown",
      "metadata": {
        "id": "CeICtPns7fZj"
      },
      "source": [
        "See appendix A."
      ]
    },
    {
      "cell_type": "markdown",
      "metadata": {
        "id": "UURSCRV77fZk"
      },
      "source": [
        "## 10."
      ]
    },
    {
      "cell_type": "markdown",
      "metadata": {
        "id": "_gih0l3O7fZk"
      },
      "source": [
        "*Exercise: Train a deep MLP on the MNIST dataset (you can load it using `keras.datasets.mnist.load_data()`. See if you can get over 98% precision. Try searching for the optimal learning rate by using the approach presented in this chapter (i.e., by growing the learning rate exponentially, plotting the loss, and finding the point where the loss shoots up). Try adding all the bells and whistles—save checkpoints, use early stopping, and plot learning curves using TensorBoard.*"
      ]
    },
    {
      "cell_type": "markdown",
      "metadata": {
        "id": "EA480T5x7fZk"
      },
      "source": [
        "Let's load the dataset:"
      ]
    },
    {
      "cell_type": "code",
      "execution_count": null,
      "metadata": {
        "id": "yX41khig7fZk"
      },
      "outputs": [],
      "source": [
        "(X_train_full, y_train_full), (X_test, y_test) = keras.datasets.mnist.load_data()"
      ]
    },
    {
      "cell_type": "markdown",
      "metadata": {
        "id": "Dw8Qdac57fZk"
      },
      "source": [
        "Just like for the Fashion MNIST dataset, the MNIST training set contains 60,000 grayscale images, each 28x28 pixels:"
      ]
    },
    {
      "cell_type": "code",
      "execution_count": null,
      "metadata": {
        "id": "WNiDI5Fz7fZk",
        "outputId": "dee0bb94-837b-4534-f942-e45a7499cb72"
      },
      "outputs": [
        {
          "data": {
            "text/plain": [
              "(60000, 28, 28)"
            ]
          },
          "execution_count": 108,
          "metadata": {},
          "output_type": "execute_result"
        }
      ],
      "source": [
        "X_train_full.shape"
      ]
    },
    {
      "cell_type": "markdown",
      "metadata": {
        "id": "1DgTJ31h7fZl"
      },
      "source": [
        "Each pixel intensity is also represented as a byte (0 to 255):"
      ]
    },
    {
      "cell_type": "code",
      "execution_count": null,
      "metadata": {
        "id": "y2_fVdcD7fZl",
        "outputId": "cb5c271b-6dea-4f22-f023-154016bf88b1"
      },
      "outputs": [
        {
          "data": {
            "text/plain": [
              "dtype('uint8')"
            ]
          },
          "execution_count": 109,
          "metadata": {},
          "output_type": "execute_result"
        }
      ],
      "source": [
        "X_train_full.dtype"
      ]
    },
    {
      "cell_type": "markdown",
      "metadata": {
        "id": "-hCe7jCo7fZl"
      },
      "source": [
        "Let's split the full training set into a validation set and a (smaller) training set. We also scale the pixel intensities down to the 0-1 range and convert them to floats, by dividing by 255, just like we did for Fashion MNIST:"
      ]
    },
    {
      "cell_type": "code",
      "execution_count": null,
      "metadata": {
        "id": "Ao2x4TQr7fZl"
      },
      "outputs": [],
      "source": [
        "X_valid, X_train = X_train_full[:5000] / 255., X_train_full[5000:] / 255.\n",
        "y_valid, y_train = y_train_full[:5000], y_train_full[5000:]\n",
        "X_test = X_test / 255."
      ]
    },
    {
      "cell_type": "markdown",
      "metadata": {
        "id": "myNEmRxG7fZl"
      },
      "source": [
        "Let's plot an image using Matplotlib's `imshow()` function, with a `'binary'`\n",
        " color map:"
      ]
    },
    {
      "cell_type": "code",
      "execution_count": null,
      "metadata": {
        "id": "duptXsZM7fZl",
        "outputId": "98053418-a5a6-4bad-9ac3-96953db056ed"
      },
      "outputs": [
        {
          "data": {
            "image/png": "[encoded data removed]",
            "text/plain": [
              "<Figure size 432x288 with 1 Axes>"
            ]
          },
          "metadata": {
            "needs_background": "light"
          },
          "output_type": "display_data"
        }
      ],
      "source": [
        "plt.imshow(X_train[0], cmap=\"binary\")\n",
        "plt.axis('off')\n",
        "plt.show()"
      ]
    },
    {
      "cell_type": "markdown",
      "metadata": {
        "id": "V8Pmd5JL7fZm"
      },
      "source": [
        "The labels are the class IDs (represented as uint8), from 0 to 9. Conveniently, the class IDs correspond to the digits represented in the images, so we don't need a `class_names` array:"
      ]
    },
    {
      "cell_type": "code",
      "execution_count": null,
      "metadata": {
        "id": "bHnwpAK67fZm",
        "outputId": "ba8fc3e4-c5c1-4942-f777-c7f5bed73823"
      },
      "outputs": [
        {
          "data": {
            "text/plain": [
              "array([7, 3, 4, ..., 5, 6, 8], dtype=uint8)"
            ]
          },
          "execution_count": 112,
          "metadata": {},
          "output_type": "execute_result"
        }
      ],
      "source": [
        "y_train"
      ]
    },
    {
      "cell_type": "markdown",
      "metadata": {
        "id": "yo5Z9UD-7fZm"
      },
      "source": [
        "The validation set contains 5,000 images, and the test set contains 10,000 images:"
      ]
    },
    {
      "cell_type": "code",
      "execution_count": null,
      "metadata": {
        "id": "kvbURzUE7fZm",
        "outputId": "b12eee7b-4a05-4454-b87c-55427af41bb3"
      },
      "outputs": [
        {
          "data": {
            "text/plain": [
              "(5000, 28, 28)"
            ]
          },
          "execution_count": 113,
          "metadata": {},
          "output_type": "execute_result"
        }
      ],
      "source": [
        "X_valid.shape"
      ]
    },
    {
      "cell_type": "code",
      "execution_count": null,
      "metadata": {
        "id": "Qqu0r0r07fZm",
        "outputId": "48572c93-c786-4bae-fe0d-4b9c18c0152f"
      },
      "outputs": [
        {
          "data": {
            "text/plain": [
              "(10000, 28, 28)"
            ]
          },
          "execution_count": 114,
          "metadata": {},
          "output_type": "execute_result"
        }
      ],
      "source": [
        "X_test.shape"
      ]
    },
    {
      "cell_type": "markdown",
      "metadata": {
        "id": "ZASs_Ucd7fZm"
      },
      "source": [
        "Let's take a look at a sample of the images in the dataset:"
      ]
    },
    {
      "cell_type": "code",
      "execution_count": null,
      "metadata": {
        "id": "Sef598px7fZn",
        "outputId": "609fe01e-b71e-445a-928a-a0b46b5d9a4f"
      },
      "outputs": [
        {
          "data": {
            "image/png": "[encoded data removed]",
            "text/plain": [
              "<Figure size 864x345.6 with 40 Axes>"
            ]
          },
          "metadata": {
            "needs_background": "light"
          },
          "output_type": "display_data"
        }
      ],
      "source": [
        "n_rows = 4\n",
        "n_cols = 10\n",
        "plt.figure(figsize=(n_cols * 1.2, n_rows * 1.2))\n",
        "for row in range(n_rows):\n",
        "    for col in range(n_cols):\n",
        "        index = n_cols * row + col\n",
        "        plt.subplot(n_rows, n_cols, index + 1)\n",
        "        plt.imshow(X_train[index], cmap=\"binary\", interpolation=\"nearest\")\n",
        "        plt.axis('off')\n",
        "        plt.title(y_train[index], fontsize=12)\n",
        "plt.subplots_adjust(wspace=0.2, hspace=0.5)\n",
        "plt.show()"
      ]
    },
    {
      "cell_type": "markdown",
      "metadata": {
        "id": "ZOqhRKM47fZn"
      },
      "source": [
        "Let's build a simple dense network and find the optimal learning rate. We will need a callback to grow the learning rate at each iteration. It will also record the learning rate and the loss at each iteration:"
      ]
    },
    {
      "cell_type": "code",
      "execution_count": null,
      "metadata": {
        "id": "6_M0SpKP7fZn"
      },
      "outputs": [],
      "source": [
        "K = keras.backend\n",
        "\n",
        "class ExponentialLearningRate(keras.callbacks.Callback):\n",
        "    def __init__(self, factor):\n",
        "        self.factor = factor\n",
        "        self.rates = []\n",
        "        self.losses = []\n",
        "    def on_batch_end(self, batch, logs):\n",
        "        self.rates.append(K.get_value(self.model.optimizer.learning_rate))\n",
        "        self.losses.append(logs[\"loss\"])\n",
        "        K.set_value(self.model.optimizer.learning_rate, self.model.optimizer.learning_rate * self.factor)"
      ]
    },
    {
      "cell_type": "code",
      "execution_count": null,
      "metadata": {
        "id": "2l2yR1oB7fZn"
      },
      "outputs": [],
      "source": [
        "keras.backend.clear_session()\n",
        "np.random.seed(42)\n",
        "tf.random.set_seed(42)"
      ]
    },
    {
      "cell_type": "code",
      "execution_count": null,
      "metadata": {
        "id": "5W51M_Mv7fZn"
      },
      "outputs": [],
      "source": [
        "model = keras.models.Sequential([\n",
        "    keras.layers.Flatten(input_shape=[28, 28]),\n",
        "    keras.layers.Dense(300, activation=\"relu\"),\n",
        "    keras.layers.Dense(100, activation=\"relu\"),\n",
        "    keras.layers.Dense(10, activation=\"softmax\")\n",
        "])"
      ]
    },
    {
      "cell_type": "markdown",
      "metadata": {
        "id": "4w8Q8Pmz7fZo"
      },
      "source": [
        "We will start with a small learning rate of 1e-3, and grow it by 0.5% at each iteration:"
      ]
    },
    {
      "cell_type": "code",
      "execution_count": null,
      "metadata": {
        "id": "IG7pZNNE7fZo"
      },
      "outputs": [],
      "source": [
        "model.compile(loss=\"sparse_categorical_crossentropy\",\n",
        "              optimizer=keras.optimizers.SGD(learning_rate=1e-3),\n",
        "              metrics=[\"accuracy\"])\n",
        "expon_lr = ExponentialLearningRate(factor=1.005)"
      ]
    },
    {
      "cell_type": "markdown",
      "metadata": {
        "id": "6lWsTRwe7fZo"
      },
      "source": [
        "Now let's train the model for just 1 epoch:"
      ]
    },
    {
      "cell_type": "code",
      "execution_count": null,
      "metadata": {
        "id": "KzW9B4Xx7fZp",
        "outputId": "4d6ea656-daca-44c2-a9bc-0fb2040b6ab6"
      },
      "outputs": [
        {
          "name": "stdout",
          "output_type": "stream",
          "text": [
            "1719/1719 [==============================] - 2s 1ms/step - loss: 4.6604 - accuracy: 0.4887 - val_loss: 2.3911 - val_accuracy: 0.1126\n"
          ]
        }
      ],
      "source": [
        "history = model.fit(X_train, y_train, epochs=1,\n",
        "                    validation_data=(X_valid, y_valid),\n",
        "                    callbacks=[expon_lr])"
      ]
    },
    {
      "cell_type": "markdown",
      "metadata": {
        "id": "b4UZf3YD7fZp"
      },
      "source": [
        "We can now plot the loss as a function of the learning rate:"
      ]
    },
    {
      "cell_type": "code",
      "execution_count": null,
      "metadata": {
        "id": "MxKLNAu67fZp",
        "outputId": "9e1279ee-3473-47a6-8a13-c17bfd5ea0ed"
      },
      "outputs": [
        {
          "data": {
            "text/plain": [
              "Text(0, 0.5, 'Loss')"
            ]
          },
          "execution_count": 121,
          "metadata": {},
          "output_type": "execute_result"
        },
        {
          "data": {
            "image/png": "[encoded data removed]",
            "text/plain": [
              "<Figure size 432x288 with 1 Axes>"
            ]
          },
          "metadata": {
            "needs_background": "light"
          },
          "output_type": "display_data"
        }
      ],
      "source": [
        "plt.plot(expon_lr.rates, expon_lr.losses)\n",
        "plt.gca().set_xscale('log')\n",
        "plt.hlines(min(expon_lr.losses), min(expon_lr.rates), max(expon_lr.rates))\n",
        "plt.axis([min(expon_lr.rates), max(expon_lr.rates), 0, expon_lr.losses[0]])\n",
        "plt.grid()\n",
        "plt.xlabel(\"Learning rate\")\n",
        "plt.ylabel(\"Loss\")"
      ]
    },
    {
      "cell_type": "markdown",
      "metadata": {
        "id": "SexKAeJC7fZr"
      },
      "source": [
        "The loss starts shooting back up violently when the learning rate goes over 6e-1, so let's try using half of that, at 3e-1:"
      ]
    },
    {
      "cell_type": "code",
      "execution_count": null,
      "metadata": {
        "id": "qk8PAn9Y7fZr"
      },
      "outputs": [],
      "source": [
        "keras.backend.clear_session()\n",
        "np.random.seed(42)\n",
        "tf.random.set_seed(42)"
      ]
    },
    {
      "cell_type": "code",
      "execution_count": null,
      "metadata": {
        "id": "QK4fJefV7fZr"
      },
      "outputs": [],
      "source": [
        "model = keras.models.Sequential([\n",
        "    keras.layers.Flatten(input_shape=[28, 28]),\n",
        "    keras.layers.Dense(300, activation=\"relu\"),\n",
        "    keras.layers.Dense(100, activation=\"relu\"),\n",
        "    keras.layers.Dense(10, activation=\"softmax\")\n",
        "])"
      ]
    },
    {
      "cell_type": "code",
      "execution_count": null,
      "metadata": {
        "id": "V3JDBa377fZr"
      },
      "outputs": [],
      "source": [
        "model.compile(loss=\"sparse_categorical_crossentropy\",\n",
        "              optimizer=keras.optimizers.SGD(learning_rate=3e-1),\n",
        "              metrics=[\"accuracy\"])"
      ]
    },
    {
      "cell_type": "code",
      "execution_count": null,
      "metadata": {
        "id": "TQ7EOY4I7fZs",
        "outputId": "e74730a9-a10b-4c7e-c75f-cf01fb3d9368"
      },
      "outputs": [
        {
          "data": {
            "text/plain": [
              "'./my_mnist_logs/run_001'"
            ]
          },
          "execution_count": 125,
          "metadata": {},
          "output_type": "execute_result"
        }
      ],
      "source": [
        "run_index = 1 # increment this at every run\n",
        "run_logdir = os.path.join(os.curdir, \"my_mnist_logs\", \"run_{:03d}\".format(run_index))\n",
        "run_logdir"
      ]
    },
    {
      "cell_type": "code",
      "execution_count": null,
      "metadata": {
        "id": "q_jKYiJ57fZs",
        "outputId": "5bbee9e4-804c-489d-f1a4-212392afd2e7"
      },
      "outputs": [
        {
          "name": "stdout",
          "output_type": "stream",
          "text": [
            "Epoch 1/100\n",
            "1719/1719 [==============================] - 3s 2ms/step - loss: 0.4195 - accuracy: 0.8677 - val_loss: 0.0995 - val_accuracy: 0.9724\n",
            "Epoch 2/100\n",
            "1719/1719 [==============================] - 2s 882us/step - loss: 0.0941 - accuracy: 0.9698 - val_loss: 0.0913 - val_accuracy: 0.9746\n",
            "Epoch 3/100\n",
            "1719/1719 [==============================] - 1s 845us/step - loss: 0.0650 - accuracy: 0.9792 - val_loss: 0.0785 - val_accuracy: 0.9772\n",
            "Epoch 4/100\n",
            "1719/1719 [==============================] - 2s 932us/step - loss: 0.0438 - accuracy: 0.9855 - val_loss: 0.0793 - val_accuracy: 0.9784\n",
            "Epoch 5/100\n",
            "1719/1719 [==============================] - 1s 832us/step - loss: 0.0348 - accuracy: 0.9888 - val_loss: 0.0724 - val_accuracy: 0.9812\n",
            "Epoch 6/100\n",
            "1719/1719 [==============================] - 1s 835us/step - loss: 0.0289 - accuracy: 0.9905 - val_loss: 0.0814 - val_accuracy: 0.9792\n",
            "Epoch 7/100\n",
            "1719/1719 [==============================] - 1s 868us/step - loss: 0.0230 - accuracy: 0.9926 - val_loss: 0.0794 - val_accuracy: 0.9808\n",
            "Epoch 8/100\n",
            "1719/1719 [==============================] - 1s 847us/step - loss: 0.0180 - accuracy: 0.9943 - val_loss: 0.0718 - val_accuracy: 0.9826\n",
            "Epoch 9/100\n",
            "1719/1719 [==============================] - 1s 848us/step - loss: 0.0158 - accuracy: 0.9949 - val_loss: 0.0874 - val_accuracy: 0.9798\n",
            "Epoch 10/100\n",
            "1719/1719 [==============================] - 1s 844us/step - loss: 0.0155 - accuracy: 0.9944 - val_loss: 0.0782 - val_accuracy: 0.9824\n",
            "Epoch 11/100\n",
            "1719/1719 [==============================] - 1s 834us/step - loss: 0.0089 - accuracy: 0.9971 - val_loss: 0.0902 - val_accuracy: 0.9832\n",
            "Epoch 12/100\n",
            "1719/1719 [==============================] - 1s 844us/step - loss: 0.0064 - accuracy: 0.9979 - val_loss: 0.0832 - val_accuracy: 0.9832\n",
            "Epoch 13/100\n",
            "1719/1719 [==============================] - 1s 859us/step - loss: 0.0059 - accuracy: 0.9981 - val_loss: 0.0888 - val_accuracy: 0.9814\n",
            "Epoch 14/100\n",
            "1719/1719 [==============================] - 2s 919us/step - loss: 0.0110 - accuracy: 0.9963 - val_loss: 0.1080 - val_accuracy: 0.9792\n",
            "Epoch 15/100\n",
            "1719/1719 [==============================] - 2s 921us/step - loss: 0.0075 - accuracy: 0.9973 - val_loss: 0.0828 - val_accuracy: 0.9840\n",
            "Epoch 16/100\n",
            "1719/1719 [==============================] - 2s 945us/step - loss: 0.0039 - accuracy: 0.9991 - val_loss: 0.0869 - val_accuracy: 0.9848\n",
            "Epoch 17/100\n",
            "1719/1719 [==============================] - 2s 962us/step - loss: 0.0064 - accuracy: 0.9982 - val_loss: 0.0997 - val_accuracy: 0.9816\n",
            "Epoch 18/100\n",
            "1719/1719 [==============================] - 2s 976us/step - loss: 0.0071 - accuracy: 0.9979 - val_loss: 0.1001 - val_accuracy: 0.9840\n",
            "Epoch 19/100\n",
            "1719/1719 [==============================] - 2s 1ms/step - loss: 0.0086 - accuracy: 0.9972 - val_loss: 0.1239 - val_accuracy: 0.9796\n",
            "Epoch 20/100\n",
            "1719/1719 [==============================] - 2s 1ms/step - loss: 0.0095 - accuracy: 0.9973 - val_loss: 0.1107 - val_accuracy: 0.9808\n",
            "Epoch 21/100\n",
            "1719/1719 [==============================] - 2s 1ms/step - loss: 0.0055 - accuracy: 0.9981 - val_loss: 0.0891 - val_accuracy: 0.9840\n",
            "Epoch 22/100\n",
            "1719/1719 [==============================] - 2s 967us/step - loss: 0.0041 - accuracy: 0.9988 - val_loss: 0.0893 - val_accuracy: 0.9844\n",
            "Epoch 23/100\n",
            "1719/1719 [==============================] - 2s 963us/step - loss: 6.1009e-04 - accuracy: 0.9999 - val_loss: 0.0899 - val_accuracy: 0.9848\n",
            "Epoch 24/100\n",
            "1719/1719 [==============================] - 2s 972us/step - loss: 8.4212e-05 - accuracy: 1.0000 - val_loss: 0.0894 - val_accuracy: 0.9862\n",
            "Epoch 25/100\n",
            "1719/1719 [==============================] - 2s 1ms/step - loss: 6.0306e-05 - accuracy: 1.0000 - val_loss: 0.0899 - val_accuracy: 0.9858\n",
            "Epoch 26/100\n",
            "1719/1719 [==============================] - 2s 1ms/step - loss: 4.9564e-05 - accuracy: 1.0000 - val_loss: 0.0903 - val_accuracy: 0.9860\n",
            "Epoch 27/100\n",
            "1719/1719 [==============================] - 2s 1ms/step - loss: 4.3609e-05 - accuracy: 1.0000 - val_loss: 0.0906 - val_accuracy: 0.9862\n",
            "Epoch 28/100\n",
            "1719/1719 [==============================] - 2s 973us/step - loss: 4.2216e-05 - accuracy: 1.0000 - val_loss: 0.0911 - val_accuracy: 0.9862\n"
          ]
        }
      ],
      "source": [
        "early_stopping_cb = keras.callbacks.EarlyStopping(patience=20)\n",
        "checkpoint_cb = keras.callbacks.ModelCheckpoint(\"my_mnist_model.h5\", save_best_only=True)\n",
        "tensorboard_cb = keras.callbacks.TensorBoard(run_logdir)\n",
        "\n",
        "history = model.fit(X_train, y_train, epochs=100,\n",
        "                    validation_data=(X_valid, y_valid),\n",
        "                    callbacks=[checkpoint_cb, early_stopping_cb, tensorboard_cb])"
      ]
    },
    {
      "cell_type": "code",
      "execution_count": null,
      "metadata": {
        "id": "U5jRGRx-7fZs",
        "outputId": "69ba6f5d-788a-44ca-8476-ccc113e8cfe6"
      },
      "outputs": [
        {
          "name": "stdout",
          "output_type": "stream",
          "text": [
            "313/313 [==============================] - 0s 701us/step - loss: 0.0804 - accuracy: 0.9806\n"
          ]
        },
        {
          "data": {
            "text/plain": [
              "[0.08043695986270905, 0.9805999994277954]"
            ]
          },
          "execution_count": 127,
          "metadata": {},
          "output_type": "execute_result"
        }
      ],
      "source": [
        "model = keras.models.load_model(\"my_mnist_model.h5\") # rollback to best model\n",
        "model.evaluate(X_test, y_test)"
      ]
    },
    {
      "cell_type": "markdown",
      "metadata": {
        "id": "lofIEwgR7fZt"
      },
      "source": [
        "We got over 98% accuracy. Finally, let's look at the learning curves using TensorBoard:"
      ]
    },
    {
      "cell_type": "code",
      "execution_count": null,
      "metadata": {
        "id": "twOvogKM7fZt",
        "outputId": "a852b002-d6b6-4674-8a01-a42b1e426d02"
      },
      "outputs": [
        {
          "data": {
            "text/html": [
              "\n",
              "      <iframe id=\"tensorboard-frame-27a48e88c728a23e\" width=\"100%\" height=\"800\" frameborder=\"0\">\n",
              "      </iframe>\n",
              "      <script>\n",
              "        (function() {\n",
              "          const frame = document.getElementById(\"tensorboard-frame-27a48e88c728a23e\");\n",
              "          const url = new URL(\"/\", window.location);\n",
              "          const port = 6006;\n",
              "          if (port) {\n",
              "            url.port = port;\n",
              "          }\n",
              "          frame.src = url;\n",
              "        })();\n",
              "      </script>\n",
              "    "
            ],
            "text/plain": [
              "<IPython.core.display.HTML object>"
            ]
          },
          "metadata": {},
          "output_type": "display_data"
        }
      ],
      "source": [
        "%tensorboard --logdir=./my_mnist_logs --port=6006"
      ]
    },
    {
      "cell_type": "code",
      "execution_count": null,
      "metadata": {
        "id": "WPqkG9Qj7fZu"
      },
      "outputs": [],
      "source": []
    }
  ],
  "metadata": {
    "kernelspec": {
      "display_name": "Python 3",
      "language": "python",
      "name": "python3"
    },
    "language_info": {
      "codemirror_mode": {
        "name": "ipython",
        "version": 3
      },
      "file_extension": ".py",
      "mimetype": "text/x-python",
      "name": "python",
      "nbconvert_exporter": "python",
      "pygments_lexer": "ipython3",
      "version": "3.7.10"
    },
    "nav_menu": {
      "height": "264px",
      "width": "369px"
    },
    "toc": {
      "navigate_menu": true,
      "number_sections": true,
      "sideBar": true,
      "threshold": 6,
      "toc_cell": false,
      "toc_section_display": "block",
      "toc_window_display": false
    },
    "colab": {
      "provenance": []
    }
  },
  "nbformat": 4,
  "nbformat_minor": 0
}